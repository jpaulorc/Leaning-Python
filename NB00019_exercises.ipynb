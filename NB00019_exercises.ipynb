{
  "nbformat": 4,
  "nbformat_minor": 0,
  "metadata": {
    "kernelspec": {
      "display_name": "Python 3",
      "language": "python",
      "name": "python3"
    },
    "language_info": {
      "codemirror_mode": {
        "name": "ipython",
        "version": 3
      },
      "file_extension": ".py",
      "mimetype": "text/x-python",
      "name": "python",
      "nbconvert_exporter": "python",
      "pygments_lexer": "ipython3",
      "version": "3.8.5"
    },
    "colab": {
      "name": "NB00019-exercises.ipynb",
      "provenance": [],
      "collapsed_sections": []
    }
  },
  "cells": [
    {
      "cell_type": "markdown",
      "metadata": {
        "id": "hzPUsU1mT-S3"
      },
      "source": [
        "   # Learning Python"
      ]
    },
    {
      "cell_type": "code",
      "metadata": {
        "id": "piHhoMX9T-TA"
      },
      "source": [
        "import time\n",
        "import numpy as np"
      ],
      "execution_count": 30,
      "outputs": []
    },
    {
      "cell_type": "code",
      "metadata": {
        "colab": {
          "base_uri": "https://localhost:8080/"
        },
        "id": "k3nCaxcLT-TB",
        "outputId": "9830bb49-4cb0-4e87-f6b2-f25156f052a2"
      },
      "source": [
        "start = time.time()\n",
        "np.arange(1000000)\n",
        "end = time.time()\n",
        "print(end - start)"
      ],
      "execution_count": 31,
      "outputs": [
        {
          "output_type": "stream",
          "text": [
            "0.005340576171875\n"
          ],
          "name": "stdout"
        }
      ]
    },
    {
      "cell_type": "code",
      "metadata": {
        "colab": {
          "base_uri": "https://localhost:8080/"
        },
        "id": "SHoAm7udT-TD",
        "outputId": "b2c7c7a5-cb38-4ede-e59a-a4e8800947cb"
      },
      "source": [
        "start = time.time()\n",
        "list(range(1000000))\n",
        "end = time.time()\n",
        "print(end - start)"
      ],
      "execution_count": 32,
      "outputs": [
        {
          "output_type": "stream",
          "text": [
            "0.042388916015625\n"
          ],
          "name": "stdout"
        }
      ]
    },
    {
      "cell_type": "code",
      "metadata": {
        "colab": {
          "base_uri": "https://localhost:8080/"
        },
        "id": "0RnffwZpT-TE",
        "outputId": "a09d363f-1e7e-43d9-eb86-9b609c105f54"
      },
      "source": [
        "[i for i in range(10)]"
      ],
      "execution_count": 33,
      "outputs": [
        {
          "output_type": "execute_result",
          "data": {
            "text/plain": [
              "[0, 1, 2, 3, 4, 5, 6, 7, 8, 9]"
            ]
          },
          "metadata": {
            "tags": []
          },
          "execution_count": 33
        }
      ]
    },
    {
      "cell_type": "code",
      "metadata": {
        "id": "VaHAOiiMT-TE"
      },
      "source": [
        "# Exercício 2\n",
        "# Crie um array de 10 elementos\n",
        "# Altere o valores de todos os elementos dos índices 5 a 8 para 0"
      ],
      "execution_count": 34,
      "outputs": []
    },
    {
      "cell_type": "code",
      "metadata": {
        "id": "ZgvLyGpzT-TF"
      },
      "source": [
        "# Crie um array de 3 dimensões e imprima a dimensão 1 "
      ],
      "execution_count": 35,
      "outputs": []
    },
    {
      "cell_type": "code",
      "metadata": {
        "id": "BjOAxA5GT-TG"
      },
      "source": [
        "# Crie um array de duas dimensões (matriz).\n",
        "# Imprima os elementos da terceira linha da matriz\n",
        "# Imprima todos os elementos da primeira e segunda linhas e segunda e terceira colunas"
      ],
      "execution_count": 36,
      "outputs": []
    },
    {
      "cell_type": "code",
      "metadata": {
        "id": "jyLF6Z2OT-TG",
        "colab": {
          "base_uri": "https://localhost:8080/"
        },
        "outputId": "726f25b7-ca0d-44a2-eb47-bb7d23805874"
      },
      "source": [
        "# Calcule a transposta da matriz abaixo\n",
        "arr = np.arange(15).reshape((3, 5))\n",
        "arr"
      ],
      "execution_count": 37,
      "outputs": [
        {
          "output_type": "execute_result",
          "data": {
            "text/plain": [
              "array([[ 0,  1,  2,  3,  4],\n",
              "       [ 5,  6,  7,  8,  9],\n",
              "       [10, 11, 12, 13, 14]])"
            ]
          },
          "metadata": {
            "tags": []
          },
          "execution_count": 37
        }
      ]
    },
    {
      "cell_type": "code",
      "metadata": {
        "id": "sPdUb2cDT-TH"
      },
      "source": [
        "# Considere os 3 arrays abaixo\n",
        "# Retorne o valor do array xarr se o valor for True no array cond. Caso contrário, retorne o valor do array yarr.\n",
        "xarr = np.array([1.1, 1.2, 1.3, 1.4, 1.5])\n",
        "yarr = np.array([2.1, 2.2, 2.3, 2.4, 2.5])\n",
        "cond = np.array([True, False, True, True, False])"
      ],
      "execution_count": 38,
      "outputs": []
    },
    {
      "cell_type": "code",
      "metadata": {
        "id": "U53Aac6QT-TH"
      },
      "source": [
        "# Crie um array A com 10 elementos e salve o array em disco com a extensão npy\n",
        "# Depois carregue o array do disco no array B"
      ],
      "execution_count": 39,
      "outputs": []
    },
    {
      "cell_type": "code",
      "metadata": {
        "id": "xfPZIHycT-TI"
      },
      "source": [
        "# Considerando a série abaixo, imprima os valores únicos na série\n",
        "import pandas as pd\n",
        "obj = pd.Series(['c', 'a', 'd', 'a', 'a', 'b', 'b', 'c', 'c', 'a', 'b'])"
      ],
      "execution_count": 40,
      "outputs": []
    },
    {
      "cell_type": "code",
      "metadata": {
        "id": "QWHEFOF-T-TI",
        "colab": {
          "base_uri": "https://localhost:8080/"
        },
        "outputId": "f5da26c6-a50d-4014-fee0-219af983c257"
      },
      "source": [
        "# Considerando o trecho de código que conecta em uma url na internet, imprima o dataframe conforme abaixo.\n",
        "import requests\n",
        "url = 'https://api.github.com/repos/pandas-dev/pandas/issues'\n",
        "resp = requests.get(url)\n",
        "resp"
      ],
      "execution_count": 41,
      "outputs": [
        {
          "output_type": "execute_result",
          "data": {
            "text/plain": [
              "<Response [200]>"
            ]
          },
          "metadata": {
            "tags": []
          },
          "execution_count": 41
        }
      ]
    },
    {
      "cell_type": "code",
      "metadata": {
        "id": "u9RYj7gST-TJ"
      },
      "source": [
        "# Crie um banco de dados no SQLite, crie uma tabela, insira registros, \n",
        "# consulte a tabela e retorne os dados em dataframe do Pandas"
      ],
      "execution_count": 42,
      "outputs": []
    },
    {
      "cell_type": "code",
      "metadata": {
        "id": "AR7-PhojT-TJ"
      },
      "source": [
        ""
      ],
      "execution_count": 29,
      "outputs": []
    }
  ]
}