{
  "nbformat": 4,
  "nbformat_minor": 0,
  "metadata": {
    "kernelspec": {
      "display_name": "Python 3",
      "language": "python",
      "name": "python3"
    },
    "language_info": {
      "codemirror_mode": {
        "name": "ipython",
        "version": 3
      },
      "file_extension": ".py",
      "mimetype": "text/x-python",
      "name": "python",
      "nbconvert_exporter": "python",
      "pygments_lexer": "ipython3",
      "version": "3.8.5"
    },
    "colab": {
      "name": "NB00019-exercises.ipynb",
      "provenance": [],
      "collapsed_sections": []
    }
  },
  "cells": [
    {
      "cell_type": "markdown",
      "metadata": {
        "id": "hzPUsU1mT-S3"
      },
      "source": [
        "   # Learning Python"
      ]
    },
    {
      "cell_type": "code",
      "metadata": {
        "id": "piHhoMX9T-TA"
      },
      "source": [
        "import time\n",
        "import numpy as np"
      ],
      "execution_count": 4,
      "outputs": []
    },
    {
      "cell_type": "code",
      "metadata": {
        "colab": {
          "base_uri": "https://localhost:8080/"
        },
        "id": "k3nCaxcLT-TB",
        "outputId": "c79052e0-be73-4fb5-e74a-16c131121e89"
      },
      "source": [
        "start = time.time()\n",
        "np.arange(1000000)\n",
        "end = time.time()\n",
        "print(end - start)"
      ],
      "execution_count": 5,
      "outputs": [
        {
          "output_type": "stream",
          "text": [
            "0.002245187759399414\n"
          ],
          "name": "stdout"
        }
      ]
    },
    {
      "cell_type": "code",
      "metadata": {
        "colab": {
          "base_uri": "https://localhost:8080/"
        },
        "id": "SHoAm7udT-TD",
        "outputId": "416f0f88-48da-4047-de01-4ad7605c8c26"
      },
      "source": [
        "start = time.time()\n",
        "list(range(1000000))\n",
        "end = time.time()\n",
        "print(end - start)"
      ],
      "execution_count": 6,
      "outputs": [
        {
          "output_type": "stream",
          "text": [
            "0.0474553108215332\n"
          ],
          "name": "stdout"
        }
      ]
    },
    {
      "cell_type": "code",
      "metadata": {
        "colab": {
          "base_uri": "https://localhost:8080/"
        },
        "id": "0RnffwZpT-TE",
        "outputId": "113bcc21-8e5b-4a05-8218-073dd37045fe"
      },
      "source": [
        "[i for i in range(10)]"
      ],
      "execution_count": 7,
      "outputs": [
        {
          "output_type": "execute_result",
          "data": {
            "text/plain": [
              "[0, 1, 2, 3, 4, 5, 6, 7, 8, 9]"
            ]
          },
          "metadata": {
            "tags": []
          },
          "execution_count": 7
        }
      ]
    },
    {
      "cell_type": "code",
      "metadata": {
        "id": "VaHAOiiMT-TE"
      },
      "source": [
        "# Exercício 2\n",
        "# Crie um array de 10 elementos\n",
        "# Altere o valores de todos os elementos dos índices 5 a 8 para 0"
      ],
      "execution_count": 8,
      "outputs": []
    },
    {
      "cell_type": "code",
      "metadata": {
        "id": "ZgvLyGpzT-TF"
      },
      "source": [
        "# Crie um array de 3 dimensões e imprima a dimensão 1 "
      ],
      "execution_count": 9,
      "outputs": []
    },
    {
      "cell_type": "code",
      "metadata": {
        "id": "BjOAxA5GT-TG"
      },
      "source": [
        "# Crie um array de duas dimensões (matriz).\n",
        "# Imprima os elementos da terceira linha da matriz\n",
        "# Imprima todos os elementos da primeira e segunda linhas e segunda e terceira colunas"
      ],
      "execution_count": 10,
      "outputs": []
    },
    {
      "cell_type": "code",
      "metadata": {
        "id": "jyLF6Z2OT-TG",
        "colab": {
          "base_uri": "https://localhost:8080/"
        },
        "outputId": "8d6a34ea-9233-455e-8f43-74b6801d56b0"
      },
      "source": [
        "# Calcule a transposta da matriz abaixo\n",
        "arr = np.arange(15).reshape((3, 5))\n",
        "arr"
      ],
      "execution_count": 11,
      "outputs": [
        {
          "output_type": "execute_result",
          "data": {
            "text/plain": [
              "array([[ 0,  1,  2,  3,  4],\n",
              "       [ 5,  6,  7,  8,  9],\n",
              "       [10, 11, 12, 13, 14]])"
            ]
          },
          "metadata": {
            "tags": []
          },
          "execution_count": 11
        }
      ]
    },
    {
      "cell_type": "code",
      "metadata": {
        "id": "sPdUb2cDT-TH"
      },
      "source": [
        "# Considere os 3 arrays abaixo\n",
        "# Retorne o valor do array xarr se o valor for True no array cond. Caso contrário, retorne o valor do array yarr.\n",
        "xarr = np.array([1.1, 1.2, 1.3, 1.4, 1.5])\n",
        "yarr = np.array([2.1, 2.2, 2.3, 2.4, 2.5])\n",
        "cond = np.array([True, False, True, True, False])"
      ],
      "execution_count": 12,
      "outputs": []
    },
    {
      "cell_type": "code",
      "metadata": {
        "id": "U53Aac6QT-TH"
      },
      "source": [
        "# Crie um array A com 10 elementos e salve o array em disco com a extensão npy\n",
        "# Depois carregue o array do disco no array B"
      ],
      "execution_count": 13,
      "outputs": []
    },
    {
      "cell_type": "code",
      "metadata": {
        "id": "xfPZIHycT-TI"
      },
      "source": [
        "# Considerando a série abaixo, imprima os valores únicos na série\n",
        "import pandas as pd\n",
        "obj = pd.Series(['c', 'a', 'd', 'a', 'a', 'b', 'b', 'c', 'c', 'a', 'b'])"
      ],
      "execution_count": 14,
      "outputs": []
    },
    {
      "cell_type": "code",
      "metadata": {
        "id": "QWHEFOF-T-TI",
        "colab": {
          "base_uri": "https://localhost:8080/"
        },
        "outputId": "9d7d3576-3f9e-488d-8166-efec97fc3f95"
      },
      "source": [
        "# Considerando o trecho de código que conecta em uma url na internet, imprima o dataframe conforme abaixo.\n",
        "import requests\n",
        "url = 'https://api.github.com/repos/pandas-dev/pandas/issues'\n",
        "resp = requests.get(url)\n",
        "resp"
      ],
      "execution_count": 15,
      "outputs": [
        {
          "output_type": "execute_result",
          "data": {
            "text/plain": [
              "<Response [200]>"
            ]
          },
          "metadata": {
            "tags": []
          },
          "execution_count": 15
        }
      ]
    },
    {
      "cell_type": "code",
      "metadata": {
        "id": "u9RYj7gST-TJ"
      },
      "source": [
        "# Crie um banco de dados no SQLite, crie uma tabela, insira registros, \n",
        "# consulte a tabela e retorne os dados em dataframe do Pandas"
      ],
      "execution_count": 16,
      "outputs": []
    },
    {
      "cell_type": "code",
      "metadata": {
        "id": "AR7-PhojT-TJ"
      },
      "source": [
        ""
      ],
      "execution_count": null,
      "outputs": []
    }
  ]
}