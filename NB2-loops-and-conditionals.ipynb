{
 "cells": [
  {
   "cell_type": "markdown",
   "metadata": {},
   "source": [
    "   # Learning Python"
   ]
  },
  {
   "cell_type": "markdown",
   "metadata": {},
   "source": [
    "## Loops and Conditionals"
   ]
  },
  {
   "cell_type": "code",
   "execution_count": 2,
   "metadata": {},
   "outputs": [
    {
     "name": "stdout",
     "output_type": "stream",
     "text": [
      "3.8.5\n"
     ]
    }
   ],
   "source": [
    "# Python Version\n",
    "from platform import python_version\n",
    "print(python_version())"
   ]
  },
  {
   "cell_type": "code",
   "execution_count": 9,
   "metadata": {},
   "outputs": [
    {
     "name": "stdout",
     "output_type": "stream",
     "text": [
      "Input a Day of Week: Monday\n",
      "You need work!\n"
     ]
    }
   ],
   "source": [
    "# Exercise 1 - Make a structure that asking the user what is the day of week. \n",
    "# If the day is Saturday or Sunday then, print \"Today is Rest Day\", instead print \"You need work!\"\n",
    "day_week = input(\"Input a Day of Week: \")\n",
    "if day_week == 'Saturday' or day_week == 'Sunday':\n",
    "    print(\"Today is Rest Day.\")\n",
    "else:\n",
    "    print(\"You need work!\")"
   ]
  },
  {
   "cell_type": "code",
   "execution_count": 10,
   "metadata": {},
   "outputs": [
    {
     "name": "stdout",
     "output_type": "stream",
     "text": [
      "My first fruit list has Strawberry!\n",
      "My second fruit list doesn't have Strawberry!\n"
     ]
    }
   ],
   "source": [
    "# Exercise 2 - Make a list of 5 fruits and check for 'Strawberry' in the fruit list.\n",
    "fruits_one = ['Wait', 'Pineapple', 'Mango', 'Strawberry', 'Guava']\n",
    "if 'Strawberry' in fruits_one:\n",
    "    print(\"My first fruit list has Strawberry!\")\n",
    "else:\n",
    "    print(\"My first fruit list doesn't have Strawberry!\")\n",
    "    \n",
    "fruits_two = ['Wait', 'Pineapple', 'Mango', 'Apple', 'Guava']\n",
    "if 'Strawberry' in fruits_two:\n",
    "    print(\"My second fruit list has Strawberry!\")\n",
    "else:\n",
    "    print(\"My second fruit list doesn't have Strawberry!\")    "
   ]
  },
  {
   "cell_type": "code",
   "execution_count": 12,
   "metadata": {},
   "outputs": [
    {
     "name": "stdout",
     "output_type": "stream",
     "text": [
      "[2, 4, 6, 8]\n"
     ]
    }
   ],
   "source": [
    "# Exercise 3 - Make a tuple with 4 elements then multiply each element for 2 and keep the results in a list\n",
    "my_tuple = (1,2,3,4)\n",
    "my_list = [x*2 for x in my_tuple]\n",
    "print(my_list)"
   ]
  },
  {
   "cell_type": "code",
   "execution_count": 13,
   "metadata": {},
   "outputs": [
    {
     "name": "stdout",
     "output_type": "stream",
     "text": [
      "100\n",
      "102\n",
      "104\n",
      "106\n",
      "108\n",
      "110\n",
      "112\n",
      "114\n",
      "116\n",
      "118\n",
      "120\n",
      "122\n",
      "124\n",
      "126\n",
      "128\n",
      "130\n",
      "132\n",
      "134\n",
      "136\n",
      "138\n",
      "140\n",
      "142\n",
      "144\n",
      "146\n",
      "148\n",
      "150\n"
     ]
    }
   ],
   "source": [
    "# Exercise 4 - Make a sequence of even numbers between 100 and 150 then print them\n",
    "for x in range(100, 151, 2):\n",
    "    print(x)"
   ]
  },
  {
   "cell_type": "code",
   "execution_count": 14,
   "metadata": {},
   "outputs": [
    {
     "name": "stdout",
     "output_type": "stream",
     "text": [
      "40\n",
      "39\n",
      "38\n",
      "37\n",
      "36\n"
     ]
    }
   ],
   "source": [
    "# Exercise 5 - Make a variable called temperature and assign the value 40. \n",
    "# While temperature is higher than 35, print them in the screen\n",
    "temperature = 40\n",
    "while temperature > 35:\n",
    "    print(temperature)\n",
    "    temperature -= 1"
   ]
  },
  {
   "cell_type": "code",
   "execution_count": 15,
   "metadata": {},
   "outputs": [
    {
     "name": "stdout",
     "output_type": "stream",
     "text": [
      "0\n",
      "1\n",
      "2\n",
      "3\n",
      "4\n",
      "5\n",
      "6\n",
      "7\n",
      "8\n",
      "9\n",
      "10\n",
      "11\n",
      "12\n",
      "13\n",
      "14\n",
      "15\n",
      "16\n",
      "17\n",
      "18\n",
      "19\n",
      "20\n",
      "21\n",
      "22\n"
     ]
    }
   ],
   "source": [
    "# Exercise 6 - Make a variable called counter = 0. \n",
    "# While counter is less than 100, print the values in the screen, but when couter is 23 then stop the program\n",
    "counter = 0\n",
    "while counter < 100:\n",
    "    if counter == 23:\n",
    "        break\n",
    "        \n",
    "    print(counter)\n",
    "    counter += 1"
   ]
  },
  {
   "cell_type": "code",
   "execution_count": 20,
   "metadata": {},
   "outputs": [
    {
     "name": "stdout",
     "output_type": "stream",
     "text": [
      "[4, 6, 8, 10, 12, 14, 16, 18]\n",
      "[4, 6, 8, 10, 12, 14, 16, 18]\n"
     ]
    }
   ],
   "source": [
    "# Exercise 7 - Make an empty list and a variable with a value of 4. While the value is less than or equal to 20, \n",
    "# add only even numbers to list and then print it\n",
    "my_list = []\n",
    "my_var = 4\n",
    "while my_var < 20:\n",
    "    if my_var % 2 == 0:\n",
    "        my_list.append(my_var)\n",
    "    my_var += 1\n",
    "print(my_list)\n",
    "\n",
    "my_list = [x for x in range(4,20,2)]\n",
    "print(my_list)"
   ]
  },
  {
   "cell_type": "code",
   "execution_count": 21,
   "metadata": {},
   "outputs": [
    {
     "name": "stdout",
     "output_type": "stream",
     "text": [
      "[5, 7, 9, 11, 13, 15, 17, 19, 21, 23, 25, 27, 29, 31, 33, 35, 37, 39, 41, 43]\n"
     ]
    }
   ],
   "source": [
    "# Exercise 8 - Transform the result of this range function  in a list: range(5, 45, 2)\n",
    "nums = [x for x in range(5, 45, 2)]\n",
    "print(nums)"
   ]
  },
  {
   "cell_type": "code",
   "execution_count": null,
   "metadata": {},
   "outputs": [],
   "source": [
    "# Exercise 9 - Correct the errors in the code and then run the pregram. Tip: there are 3 errors.\n",
    "temperature = float(input(\"What's the temperature? \"))\n",
    "if temperature > 30\n",
    "print('Wear light clothing.')\n",
    "else\n",
    "    print('Busque your clothes.')"
   ]
  },
  {
   "cell_type": "code",
   "execution_count": null,
   "metadata": {},
   "outputs": [],
   "source": [
    "# Exercício 10 - Faça um programa que conte quantas vezes a letra \"r\" aparece na frase abaixo. Use um placeholder na \n",
    "# sua instrução de impressão\n",
    "\n",
    "# “É melhor, muito melhor, contentar-se com a realidade; se ela não é tão brilhante como os sonhos, tem pelo menos a \n",
    "# vantagem de existir.” (Machado de Assis)\n",
    "\n",
    "frase = \"É melhor, muito melhor, contentar-se com a realidade; se ela não é tão brilhante como os sonhos, tem pelo menos a vantagem de existir.\" "
   ]
  }
 ],
 "metadata": {
  "kernelspec": {
   "display_name": "Python 3",
   "language": "python",
   "name": "python3"
  },
  "language_info": {
   "codemirror_mode": {
    "name": "ipython",
    "version": 3
   },
   "file_extension": ".py",
   "mimetype": "text/x-python",
   "name": "python",
   "nbconvert_exporter": "python",
   "pygments_lexer": "ipython3",
   "version": "3.8.5"
  }
 },
 "nbformat": 4,
 "nbformat_minor": 4
}
