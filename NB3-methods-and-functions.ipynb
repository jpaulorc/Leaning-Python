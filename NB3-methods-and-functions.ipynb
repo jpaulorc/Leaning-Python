{
 "cells": [
  {
   "cell_type": "markdown",
   "metadata": {},
   "source": [
    "   # Learning Python"
   ]
  },
  {
   "cell_type": "markdown",
   "metadata": {},
   "source": [
    "## Methods and Functions"
   ]
  },
  {
   "cell_type": "code",
   "execution_count": null,
   "metadata": {},
   "outputs": [],
   "source": [
    "# Python Version\n",
    "from platform import python_version\n",
    "print(python_version())"
   ]
  },
  {
   "cell_type": "code",
   "execution_count": 10,
   "metadata": {},
   "outputs": [
    {
     "name": "stdout",
     "output_type": "stream",
     "text": [
      "[2, 4, 6, 8, 10, 12, 14, 16, 18]\n",
      "[2, 4, 6, 8, 10, 12, 14, 16, 18]\n",
      "[2, 4, 6, 8, 10, 12, 14, 16, 18]\n"
     ]
    }
   ],
   "source": [
    "# Exercise 1 - Make a function that print a sequence of even numbers between 1 and 20 (the function don't receive\n",
    "# param) and then use them to list the numbers.\n",
    "def even_numbers():\n",
    "    return [x for x in range(2, 20, 2)]\n",
    "\n",
    "print(even_numbers())\n",
    "\n",
    "def even_numbers_two():\n",
    "    even = []\n",
    "    for x in range(1, 20):\n",
    "        if x%2 == 0:\n",
    "            even.append(x)\n",
    "    return even\n",
    "\n",
    "print(even_numbers_two())\n",
    "\n",
    "even_numbers_three = lambda : [x for x in range(2, 20, 2)]\n",
    "print(even_numbers_three())"
   ]
  },
  {
   "cell_type": "code",
   "execution_count": 14,
   "metadata": {},
   "outputs": [
    {
     "name": "stdout",
     "output_type": "stream",
     "text": [
      "JOSEPH ROBINETTE BIDEN JR. IS AN AMERICAN POLITICIAN SERVING AS THE 46TH AND CURRENT PRESIDENT OF THE USA.\n",
      "JOSEPH ROBINETTE BIDEN JR. IS AN AMERICAN POLITICIAN SERVING AS THE 46TH AND CURRENT PRESIDENT OF THE USA.\n"
     ]
    }
   ],
   "source": [
    "# Exercise 2 - Make a function that receive a string how argument and return the same string in upper case.\n",
    "phrase = \"Joseph Robinette Biden Jr. is an American politician serving as the 46th and current president of the USA.\"\n",
    "\n",
    "def uper_func_one(x):\n",
    "    return x.upper()\n",
    "\n",
    "print(uper_func_one(phrase))\n",
    "\n",
    "upper_func = lambda x: x.upper()\n",
    "print(upper_func(phrase))"
   ]
  },
  {
   "cell_type": "code",
   "execution_count": 1,
   "metadata": {},
   "outputs": [
    {
     "name": "stdout",
     "output_type": "stream",
     "text": [
      "[1, 3, 4, 6, 72, 12]\n"
     ]
    }
   ],
   "source": [
    "# Exercise 3 - Make a function that receive a list of 4 elements, add 2 elements and print\n",
    "from random import randrange\n",
    "def add_list(list):\n",
    "    for i in range(2):\n",
    "        list.append(randrange(100))\n",
    "    print(list)\n",
    "\n",
    "add_list([1,3,4,6])"
   ]
  },
  {
   "cell_type": "code",
   "execution_count": 2,
   "metadata": {},
   "outputs": [
    {
     "name": "stdout",
     "output_type": "stream",
     "text": [
      "first time\n",
      "second time\n",
      "1\n",
      "3\n",
      "5\n",
      "6\n"
     ]
    }
   ],
   "source": [
    "# Exercise 4 - Make a function that receive a formal argument and a possible list of elements. \n",
    "# Run the function two times, first with only one element and second with 4 elements\n",
    "def fun_one(one, *list):\n",
    "    print(one)\n",
    "    \n",
    "    for x in list:\n",
    "        print(x)\n",
    "        \n",
    "\n",
    "fun_one('first time')\n",
    "fun_one('second time', 1, 3, 5 ,6)"
   ]
  },
  {
   "cell_type": "code",
   "execution_count": 3,
   "metadata": {},
   "outputs": [
    {
     "name": "stdout",
     "output_type": "stream",
     "text": [
      "3\n"
     ]
    }
   ],
   "source": [
    "# Exercise 5 - Make a anonymous function and set its return to variable called 'sum_fun'. \n",
    "# The expression must be get 2 numbers and then return their sum\n",
    "sum_fun = lambda a, b: a + b\n",
    "\n",
    "print(sum_fun(1,2))"
   ]
  },
  {
   "cell_type": "code",
   "execution_count": 6,
   "metadata": {},
   "outputs": [
    {
     "name": "stdout",
     "output_type": "stream",
     "text": [
      "Inside total is:  30\n",
      "Outside total is:  0\n"
     ]
    }
   ],
   "source": [
    "# Exercise - Run the code below and make sure you understand the difference between global and local variable.\n",
    "total = 0\n",
    "def sum_fun_one(arg1, arg2):\n",
    "    total = arg1 + arg2; \n",
    "    print (\"Inside total is: \", total)\n",
    "    return total;\n",
    "\n",
    "\n",
    "sum_fun_one(10, 20);\n",
    "print (\"Outside total is: \", total)"
   ]
  },
  {
   "cell_type": "code",
   "execution_count": null,
   "metadata": {},
   "outputs": [],
   "source": [
    "# Exercício 7 - Abaixo você encontra uma lista com temperaturas em graus Celsius\n",
    "# Crie uma função anônima que converta cada temperatura para Fahrenheit\n",
    "# Dica: para conseguir realizar este exercício, você deve criar sua função lambda, dentro de uma função \n",
    "# (que será estudada no próximo capítulo). Isso permite aplicar sua função a cada elemento da lista\n",
    "# Como descobrir a fórmula matemática que converte de Celsius para Fahrenheit? Pesquise!!!\n",
    "Celsius = [39.2, 36.5, 37.3, 37.8]\n",
    "Fahrenheit = map(coloque_aqui_sua_função_lambda)\n",
    "print (list(Fahrenheit))"
   ]
  },
  {
   "cell_type": "code",
   "execution_count": null,
   "metadata": {},
   "outputs": [],
   "source": [
    "# Exercício 8\n",
    "# Crie um dicionário e liste todos os métodos e atributos do dicionário"
   ]
  },
  {
   "cell_type": "code",
   "execution_count": null,
   "metadata": {},
   "outputs": [],
   "source": [
    "# Exercício 9\n",
    "# Abaixo você encontra a importação do Pandas, um dos principais pacotes Python para análise de dados.\n",
    "# Analise atentamente todos os métodos disponíveis. Um deles você vai usar no próximo exercício.\n",
    "import pandas as pd\n",
    "dir(pd)"
   ]
  },
  {
   "cell_type": "code",
   "execution_count": null,
   "metadata": {},
   "outputs": [],
   "source": [
    "# ************* Desafio ************* (pesquise na documentação Python)\n",
    "\n",
    "# Exercício 10 - Crie uma função que receba o arquivo abaixo como argumento e retorne um resumo estatístico descritivo \n",
    "# do arquivo. Dica, use Pandas e um de seus métodos, describe()\n",
    "# Arquivo: \"binary.csv\"\n",
    "import pandas as pd\n",
    "file_name = \"binary.csv\"\n",
    " "
   ]
  },
  {
   "cell_type": "code",
   "execution_count": null,
   "metadata": {},
   "outputs": [],
   "source": []
  }
 ],
 "metadata": {
  "kernelspec": {
   "display_name": "Python 3",
   "language": "python",
   "name": "python3"
  },
  "language_info": {
   "codemirror_mode": {
    "name": "ipython",
    "version": 3
   },
   "file_extension": ".py",
   "mimetype": "text/x-python",
   "name": "python",
   "nbconvert_exporter": "python",
   "pygments_lexer": "ipython3",
   "version": "3.8.5"
  }
 },
 "nbformat": 4,
 "nbformat_minor": 4
}
