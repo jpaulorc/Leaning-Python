{
 "cells": [
  {
   "cell_type": "markdown",
   "metadata": {},
   "source": [
    "   # Learning Python"
   ]
  },
  {
   "cell_type": "markdown",
   "metadata": {},
   "source": [
    "## Variables, Types and Data Structures"
   ]
  },
  {
   "cell_type": "code",
   "execution_count": 3,
   "metadata": {},
   "outputs": [
    {
     "name": "stdout",
     "output_type": "stream",
     "text": [
      "3.8.5\n"
     ]
    }
   ],
   "source": [
    "# Python Version\n",
    "from platform import python_version\n",
    "print(python_version())"
   ]
  },
  {
   "cell_type": "code",
   "execution_count": 13,
   "metadata": {},
   "outputs": [
    {
     "name": "stdout",
     "output_type": "stream",
     "text": [
      "[0, 1, 2, 3, 4, 5, 6, 7, 8, 9]\n"
     ]
    }
   ],
   "source": [
    "# Exercise 1 - Print in the screen the numbers from 1 to 10. \n",
    "# Use a list to save the numbers.\n",
    "my_list = [x for x in range(10)]\n",
    "print(my_list)"
   ]
  },
  {
   "cell_type": "code",
   "execution_count": 15,
   "metadata": {},
   "outputs": [
    {
     "name": "stdout",
     "output_type": "stream",
     "text": [
      "['Joao', 10, True, 3.8, (2, 3)]\n"
     ]
    }
   ],
   "source": [
    "# Exercise 2 - Make a list of 5 objects and print in the screen\n",
    "my_second_list = ['Joao', 10, True, 3.8, (2,3)]\n",
    "print(my_second_list)"
   ]
  },
  {
   "cell_type": "code",
   "execution_count": 22,
   "metadata": {},
   "outputs": [
    {
     "name": "stdout",
     "output_type": "stream",
     "text": [
      "Joao \n",
      "  Paulo \n",
      " Joao Paulo\n"
     ]
    }
   ],
   "source": [
    "# Exercise 3 - Make two strings and concat both in a third string\n",
    "str_one = 'Joao'\n",
    "str_two = ' Paulo'\n",
    "str_three = str_one + str_two\n",
    "print(str_one, '\\n', str_two, '\\n', str_three)"
   ]
  },
  {
   "cell_type": "code",
   "execution_count": 23,
   "metadata": {},
   "outputs": [
    {
     "data": {
      "text/plain": [
       "3"
      ]
     },
     "execution_count": 23,
     "metadata": {},
     "output_type": "execute_result"
    }
   ],
   "source": [
    "# Exercise 4 - Make a tuple with the elements: 1, 2, 2, 3, 4, 4, 4, 5 and then use the count function \n",
    "# to check how many times the number 4 appears\n",
    "tup_one = (1, 2, 2, 3, 4, 4, 4, 5)\n",
    "tup_one.count(4)"
   ]
  },
  {
   "cell_type": "code",
   "execution_count": 30,
   "metadata": {},
   "outputs": [
    {
     "name": "stdout",
     "output_type": "stream",
     "text": [
      "{}\n"
     ]
    }
   ],
   "source": [
    "# Exercise 5 - Make a empty dictionary and print in the screen\n",
    "dict_one = {}\n",
    "print(dict_one)"
   ]
  },
  {
   "cell_type": "code",
   "execution_count": 35,
   "metadata": {},
   "outputs": [
    {
     "name": "stdout",
     "output_type": "stream",
     "text": [
      "{'key1': 'Joao', 'key2': 'Paulo', 'key3': 'Rodrigues'}\n"
     ]
    }
   ],
   "source": [
    "# Exercise 6 - Make a dictionary with 3 key and values and then print in the screen\n",
    "dict_two = {'key1': 'Joao', 'key2': 'Paulo', 'key3': 'Rodrigues'}\n",
    "print(dict_two)"
   ]
  },
  {
   "cell_type": "code",
   "execution_count": 36,
   "metadata": {},
   "outputs": [
    {
     "name": "stdout",
     "output_type": "stream",
     "text": [
      "{'key1': 'Joao', 'key2': 'Paulo', 'key3': 'Rodrigues', 'key4': 'Corte'}\n"
     ]
    }
   ],
   "source": [
    "# Exercise 7 - Add one more element to dictionary created in the previus exercise and then print in the screen\n",
    "dict_two['key4'] = 'Corte'\n",
    "print(dict_two)"
   ]
  },
  {
   "cell_type": "code",
   "execution_count": 1,
   "metadata": {},
   "outputs": [
    {
     "name": "stdout",
     "output_type": "stream",
     "text": [
      "{'key1': 101, 'key2': 'A', 'key3': [10, 20]}\n"
     ]
    }
   ],
   "source": [
    "# Exercise 8 - Make a dictionary with 3 key and values. \n",
    "# One of value must be a list with two numbers\n",
    "# Print on screen\n",
    "dict_three = {'key1': 101, 'key2': 'A', 'key3': [10, 20]}\n",
    "print(dict_three)"
   ]
  },
  {
   "cell_type": "code",
   "execution_count": 38,
   "metadata": {},
   "outputs": [
    {
     "name": "stdout",
     "output_type": "stream",
     "text": [
      "['Maria', (10, 20), {1: 'Joao', 2: 'Paulo'}, 8.9]\n"
     ]
    }
   ],
   "source": [
    "# Exercise 9 - Make a list with 4 elements. The first must be a string, the second a tuple with 2 elements,\n",
    "# the thrid with a dictionary with 2 key and values, and \n",
    "# the fourth with a float\n",
    "# Print on screen\n",
    "list_one = ['Maria', (10, 20), {1: 'Joao', 2: 'Paulo'}, 8.9]\n",
    "print(list_one)"
   ]
  },
  {
   "cell_type": "code",
   "execution_count": 2,
   "metadata": {},
   "outputs": [
    {
     "name": "stdout",
     "output_type": "stream",
     "text": [
      "ientista de Dados \n"
     ]
    }
   ],
   "source": [
    "# Exercise 10 - Consider the string below. Print on screen only the caracters from 1 to 18.\n",
    "phrase = 'Cientista de Dados é o profissional mais sexy do século XXI'\n",
    "print(phrase[1:19])"
   ]
  },
  {
   "cell_type": "code",
   "execution_count": null,
   "metadata": {},
   "outputs": [],
   "source": []
  }
 ],
 "metadata": {
  "kernelspec": {
   "display_name": "Python 3",
   "language": "python",
   "name": "python3"
  },
  "language_info": {
   "codemirror_mode": {
    "name": "ipython",
    "version": 3
   },
   "file_extension": ".py",
   "mimetype": "text/x-python",
   "name": "python",
   "nbconvert_exporter": "python",
   "pygments_lexer": "ipython3",
   "version": "3.8.5"
  }
 },
 "nbformat": 4,
 "nbformat_minor": 4
}
