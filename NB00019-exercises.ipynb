{
  "nbformat": 4,
  "nbformat_minor": 0,
  "metadata": {
    "kernelspec": {
      "display_name": "Python 3",
      "language": "python",
      "name": "python3"
    },
    "language_info": {
      "codemirror_mode": {
        "name": "ipython",
        "version": 3
      },
      "file_extension": ".py",
      "mimetype": "text/x-python",
      "name": "python",
      "nbconvert_exporter": "python",
      "pygments_lexer": "ipython3",
      "version": "3.8.5"
    },
    "colab": {
      "name": "NB00019-exercises.ipynb",
      "provenance": [],
      "collapsed_sections": []
    }
  },
  "cells": [
    {
      "cell_type": "markdown",
      "metadata": {
        "id": "hzPUsU1mT-S3"
      },
      "source": [
        "   # Learning Python"
      ]
    },
    {
      "cell_type": "code",
      "metadata": {
        "id": "piHhoMX9T-TA"
      },
      "source": [
        "import time\n",
        "import numpy as np"
      ],
      "execution_count": 1,
      "outputs": []
    },
    {
      "cell_type": "code",
      "metadata": {
        "colab": {
          "base_uri": "https://localhost:8080/"
        },
        "id": "k3nCaxcLT-TB",
        "outputId": "7decb809-1d5d-4298-df5c-534df6b29143"
      },
      "source": [
        "start = time.time()\n",
        "np.arange(1000000)\n",
        "end = time.time()\n",
        "print(end - start)"
      ],
      "execution_count": 2,
      "outputs": [
        {
          "output_type": "stream",
          "text": [
            "0.010587453842163086\n"
          ],
          "name": "stdout"
        }
      ]
    },
    {
      "cell_type": "code",
      "metadata": {
        "colab": {
          "base_uri": "https://localhost:8080/"
        },
        "id": "SHoAm7udT-TD",
        "outputId": "db626c30-06ab-42a9-cc07-697161cceb80"
      },
      "source": [
        "start = time.time()\n",
        "list(range(1000000))\n",
        "end = time.time()\n",
        "print(end - start)"
      ],
      "execution_count": 3,
      "outputs": [
        {
          "output_type": "stream",
          "text": [
            "0.04390716552734375\n"
          ],
          "name": "stdout"
        }
      ]
    },
    {
      "cell_type": "code",
      "metadata": {
        "colab": {
          "base_uri": "https://localhost:8080/"
        },
        "id": "0RnffwZpT-TE",
        "outputId": "4255c322-4f64-4b6b-ad05-d783d3e44326"
      },
      "source": [
        "[i for i in range(10)]"
      ],
      "execution_count": null,
      "outputs": [
        {
          "output_type": "execute_result",
          "data": {
            "text/plain": [
              "[0, 1, 2, 3, 4, 5, 6, 7, 8, 9]"
            ]
          },
          "metadata": {
            "tags": []
          },
          "execution_count": 8
        }
      ]
    },
    {
      "cell_type": "code",
      "metadata": {
        "id": "VaHAOiiMT-TE"
      },
      "source": [
        "# Exercício 2\n",
        "# Crie um array de 10 elementos\n",
        "# Altere o valores de todos os elementos dos índices 5 a 8 para 0"
      ],
      "execution_count": null,
      "outputs": []
    },
    {
      "cell_type": "code",
      "metadata": {
        "id": "ZgvLyGpzT-TF"
      },
      "source": [
        "# Crie um array de 3 dimensões e imprima a dimensão 1 "
      ],
      "execution_count": null,
      "outputs": []
    },
    {
      "cell_type": "code",
      "metadata": {
        "id": "BjOAxA5GT-TG"
      },
      "source": [
        "# Crie um array de duas dimensões (matriz).\n",
        "# Imprima os elementos da terceira linha da matriz\n",
        "# Imprima todos os elementos da primeira e segunda linhas e segunda e terceira colunas"
      ],
      "execution_count": null,
      "outputs": []
    },
    {
      "cell_type": "code",
      "metadata": {
        "id": "jyLF6Z2OT-TG",
        "outputId": "e31502f9-893e-4083-ebe6-cd625d833c99"
      },
      "source": [
        "# Calcule a transposta da matriz abaixo\n",
        "arr = np.arange(15).reshape((3, 5))\n",
        "arr"
      ],
      "execution_count": null,
      "outputs": [
        {
          "output_type": "execute_result",
          "data": {
            "text/plain": [
              "array([[ 0,  1,  2,  3,  4],\n",
              "       [ 5,  6,  7,  8,  9],\n",
              "       [10, 11, 12, 13, 14]])"
            ]
          },
          "metadata": {
            "tags": []
          },
          "execution_count": 11
        }
      ]
    },
    {
      "cell_type": "code",
      "metadata": {
        "id": "sPdUb2cDT-TH"
      },
      "source": [
        "# Considere os 3 arrays abaixo\n",
        "# Retorne o valor do array xarr se o valor for True no array cond. Caso contrário, retorne o valor do array yarr.\n",
        "xarr = np.array([1.1, 1.2, 1.3, 1.4, 1.5])\n",
        "yarr = np.array([2.1, 2.2, 2.3, 2.4, 2.5])\n",
        "cond = np.array([True, False, True, True, False])"
      ],
      "execution_count": null,
      "outputs": []
    },
    {
      "cell_type": "code",
      "metadata": {
        "id": "U53Aac6QT-TH"
      },
      "source": [
        "# Crie um array A com 10 elementos e salve o array em disco com a extensão npy\n",
        "# Depois carregue o array do disco no array B"
      ],
      "execution_count": null,
      "outputs": []
    },
    {
      "cell_type": "code",
      "metadata": {
        "id": "xfPZIHycT-TI"
      },
      "source": [
        "# Considerando a série abaixo, imprima os valores únicos na série\n",
        "import pandas as pd\n",
        "obj = pd.Series(['c', 'a', 'd', 'a', 'a', 'b', 'b', 'c', 'c', 'a', 'b'])"
      ],
      "execution_count": null,
      "outputs": []
    },
    {
      "cell_type": "code",
      "metadata": {
        "id": "QWHEFOF-T-TI",
        "outputId": "270dbb1e-d7cb-4f8d-e0be-1b7c05dfec7e"
      },
      "source": [
        "# Considerando o trecho de código que conecta em uma url na internet, imprima o dataframe conforme abaixo.\n",
        "import requests\n",
        "url = 'https://api.github.com/repos/pandas-dev/pandas/issues'\n",
        "resp = requests.get(url)\n",
        "resp"
      ],
      "execution_count": null,
      "outputs": [
        {
          "output_type": "execute_result",
          "data": {
            "text/plain": [
              "<Response [200]>"
            ]
          },
          "metadata": {
            "tags": []
          },
          "execution_count": 15
        }
      ]
    },
    {
      "cell_type": "code",
      "metadata": {
        "id": "u9RYj7gST-TJ"
      },
      "source": [
        "# Crie um banco de dados no SQLite, crie uma tabela, insira registros, \n",
        "# consulte a tabela e retorne os dados em dataframe do Pandas"
      ],
      "execution_count": null,
      "outputs": []
    },
    {
      "cell_type": "code",
      "metadata": {
        "id": "AR7-PhojT-TJ"
      },
      "source": [
        ""
      ],
      "execution_count": null,
      "outputs": []
    }
  ]
}