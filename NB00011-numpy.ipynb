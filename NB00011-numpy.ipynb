{
 "cells": [
  {
   "cell_type": "markdown",
   "metadata": {},
   "source": [
    "   # Learning Python"
   ]
  },
  {
   "cell_type": "markdown",
   "metadata": {},
   "source": [
    "## NumPy"
   ]
  },
  {
   "cell_type": "code",
   "execution_count": 1,
   "metadata": {},
   "outputs": [
    {
     "name": "stdout",
     "output_type": "stream",
     "text": [
      "3.8.5\n"
     ]
    }
   ],
   "source": [
    "# Python Version\n",
    "from platform import python_version\n",
    "print(python_version())"
   ]
  },
  {
   "cell_type": "code",
   "execution_count": 2,
   "metadata": {},
   "outputs": [],
   "source": [
    "import numpy as np"
   ]
  },
  {
   "cell_type": "code",
   "execution_count": 3,
   "metadata": {},
   "outputs": [
    {
     "data": {
      "text/plain": [
       "'1.19.2'"
      ]
     },
     "execution_count": 3,
     "metadata": {},
     "output_type": "execute_result"
    }
   ],
   "source": [
    "np.__version__"
   ]
  },
  {
   "cell_type": "code",
   "execution_count": 4,
   "metadata": {},
   "outputs": [
    {
     "name": "stdout",
     "output_type": "stream",
     "text": [
      "Help on built-in function array in module numpy:\n",
      "\n",
      "array(...)\n",
      "    array(object, dtype=None, *, copy=True, order='K', subok=False, ndmin=0)\n",
      "    \n",
      "    Create an array.\n",
      "    \n",
      "    Parameters\n",
      "    ----------\n",
      "    object : array_like\n",
      "        An array, any object exposing the array interface, an object whose\n",
      "        __array__ method returns an array, or any (nested) sequence.\n",
      "    dtype : data-type, optional\n",
      "        The desired data-type for the array.  If not given, then the type will\n",
      "        be determined as the minimum type required to hold the objects in the\n",
      "        sequence.\n",
      "    copy : bool, optional\n",
      "        If true (default), then the object is copied.  Otherwise, a copy will\n",
      "        only be made if __array__ returns a copy, if obj is a nested sequence,\n",
      "        or if a copy is needed to satisfy any of the other requirements\n",
      "        (`dtype`, `order`, etc.).\n",
      "    order : {'K', 'A', 'C', 'F'}, optional\n",
      "        Specify the memory layout of the array. If object is not an array, the\n",
      "        newly created array will be in C order (row major) unless 'F' is\n",
      "        specified, in which case it will be in Fortran order (column major).\n",
      "        If object is an array the following holds.\n",
      "    \n",
      "        ===== ========= ===================================================\n",
      "        order  no copy                     copy=True\n",
      "        ===== ========= ===================================================\n",
      "        'K'   unchanged F & C order preserved, otherwise most similar order\n",
      "        'A'   unchanged F order if input is F and not C, otherwise C order\n",
      "        'C'   C order   C order\n",
      "        'F'   F order   F order\n",
      "        ===== ========= ===================================================\n",
      "    \n",
      "        When ``copy=False`` and a copy is made for other reasons, the result is\n",
      "        the same as if ``copy=True``, with some exceptions for `A`, see the\n",
      "        Notes section. The default order is 'K'.\n",
      "    subok : bool, optional\n",
      "        If True, then sub-classes will be passed-through, otherwise\n",
      "        the returned array will be forced to be a base-class array (default).\n",
      "    ndmin : int, optional\n",
      "        Specifies the minimum number of dimensions that the resulting\n",
      "        array should have.  Ones will be pre-pended to the shape as\n",
      "        needed to meet this requirement.\n",
      "    \n",
      "    Returns\n",
      "    -------\n",
      "    out : ndarray\n",
      "        An array object satisfying the specified requirements.\n",
      "    \n",
      "    See Also\n",
      "    --------\n",
      "    empty_like : Return an empty array with shape and type of input.\n",
      "    ones_like : Return an array of ones with shape and type of input.\n",
      "    zeros_like : Return an array of zeros with shape and type of input.\n",
      "    full_like : Return a new array with shape of input filled with value.\n",
      "    empty : Return a new uninitialized array.\n",
      "    ones : Return a new array setting values to one.\n",
      "    zeros : Return a new array setting values to zero.\n",
      "    full : Return a new array of given shape filled with value.\n",
      "    \n",
      "    \n",
      "    Notes\n",
      "    -----\n",
      "    When order is 'A' and `object` is an array in neither 'C' nor 'F' order,\n",
      "    and a copy is forced by a change in dtype, then the order of the result is\n",
      "    not necessarily 'C' as expected. This is likely a bug.\n",
      "    \n",
      "    Examples\n",
      "    --------\n",
      "    >>> np.array([1, 2, 3])\n",
      "    array([1, 2, 3])\n",
      "    \n",
      "    Upcasting:\n",
      "    \n",
      "    >>> np.array([1, 2, 3.0])\n",
      "    array([ 1.,  2.,  3.])\n",
      "    \n",
      "    More than one dimension:\n",
      "    \n",
      "    >>> np.array([[1, 2], [3, 4]])\n",
      "    array([[1, 2],\n",
      "           [3, 4]])\n",
      "    \n",
      "    Minimum dimensions 2:\n",
      "    \n",
      "    >>> np.array([1, 2, 3], ndmin=2)\n",
      "    array([[1, 2, 3]])\n",
      "    \n",
      "    Type provided:\n",
      "    \n",
      "    >>> np.array([1, 2, 3], dtype=complex)\n",
      "    array([ 1.+0.j,  2.+0.j,  3.+0.j])\n",
      "    \n",
      "    Data-type consisting of more than one element:\n",
      "    \n",
      "    >>> x = np.array([(1,2),(3,4)],dtype=[('a','<i4'),('b','<i4')])\n",
      "    >>> x['a']\n",
      "    array([1, 3])\n",
      "    \n",
      "    Creating an array from sub-classes:\n",
      "    \n",
      "    >>> np.array(np.mat('1 2; 3 4'))\n",
      "    array([[1, 2],\n",
      "           [3, 4]])\n",
      "    \n",
      "    >>> np.array(np.mat('1 2; 3 4'), subok=True)\n",
      "    matrix([[1, 2],\n",
      "            [3, 4]])\n",
      "\n"
     ]
    }
   ],
   "source": [
    "help(np.array)"
   ]
  },
  {
   "cell_type": "code",
   "execution_count": 5,
   "metadata": {},
   "outputs": [],
   "source": [
    "vet1 = np.array([0,1,2,3,4,5,6,7,8,9])"
   ]
  },
  {
   "cell_type": "code",
   "execution_count": 6,
   "metadata": {},
   "outputs": [
    {
     "data": {
      "text/plain": [
       "numpy.ndarray"
      ]
     },
     "execution_count": 6,
     "metadata": {},
     "output_type": "execute_result"
    }
   ],
   "source": [
    "type(vet1)"
   ]
  },
  {
   "cell_type": "code",
   "execution_count": 7,
   "metadata": {},
   "outputs": [],
   "source": [
    "lst1 = [0,1,2,3,4,5,6,7,8,9]"
   ]
  },
  {
   "cell_type": "code",
   "execution_count": 8,
   "metadata": {},
   "outputs": [
    {
     "data": {
      "text/plain": [
       "list"
      ]
     },
     "execution_count": 8,
     "metadata": {},
     "output_type": "execute_result"
    }
   ],
   "source": [
    "type(lst1)"
   ]
  },
  {
   "cell_type": "code",
   "execution_count": 9,
   "metadata": {},
   "outputs": [
    {
     "name": "stdout",
     "output_type": "stream",
     "text": [
      "[0 1 2 3 4 5 6 7 8 9]\n"
     ]
    }
   ],
   "source": [
    "print(vet1)"
   ]
  },
  {
   "cell_type": "code",
   "execution_count": 10,
   "metadata": {},
   "outputs": [
    {
     "data": {
      "text/plain": [
       "array([ 0,  1,  3,  6, 10, 15, 21, 28, 36, 45])"
      ]
     },
     "execution_count": 10,
     "metadata": {},
     "output_type": "execute_result"
    }
   ],
   "source": [
    "vet1.cumsum()"
   ]
  },
  {
   "cell_type": "code",
   "execution_count": 11,
   "metadata": {},
   "outputs": [
    {
     "data": {
      "text/plain": [
       "0"
      ]
     },
     "execution_count": 11,
     "metadata": {},
     "output_type": "execute_result"
    }
   ],
   "source": [
    "vet1[0]"
   ]
  },
  {
   "cell_type": "code",
   "execution_count": 12,
   "metadata": {},
   "outputs": [],
   "source": [
    "vet1[0] = 12"
   ]
  },
  {
   "cell_type": "code",
   "execution_count": 13,
   "metadata": {},
   "outputs": [
    {
     "data": {
      "text/plain": [
       "array([12,  1,  2,  3,  4,  5,  6,  7,  8,  9])"
      ]
     },
     "execution_count": 13,
     "metadata": {},
     "output_type": "execute_result"
    }
   ],
   "source": [
    "vet1"
   ]
  },
  {
   "cell_type": "code",
   "execution_count": 14,
   "metadata": {},
   "outputs": [
    {
     "ename": "ValueError",
     "evalue": "invalid literal for int() with base 10: 'new value'",
     "output_type": "error",
     "traceback": [
      "\u001b[0;31m---------------------------------------------------------------------------\u001b[0m",
      "\u001b[0;31mValueError\u001b[0m                                Traceback (most recent call last)",
      "\u001b[0;32m<ipython-input-14-20c88a8aa979>\u001b[0m in \u001b[0;36m<module>\u001b[0;34m\u001b[0m\n\u001b[0;32m----> 1\u001b[0;31m \u001b[0mvet1\u001b[0m\u001b[0;34m[\u001b[0m\u001b[0;36m0\u001b[0m\u001b[0;34m]\u001b[0m \u001b[0;34m=\u001b[0m \u001b[0;34m'new value'\u001b[0m\u001b[0;34m\u001b[0m\u001b[0;34m\u001b[0m\u001b[0m\n\u001b[0m",
      "\u001b[0;31mValueError\u001b[0m: invalid literal for int() with base 10: 'new value'"
     ]
    }
   ],
   "source": [
    "vet1[0] = 'new value'"
   ]
  },
  {
   "cell_type": "code",
   "execution_count": 15,
   "metadata": {},
   "outputs": [
    {
     "name": "stdout",
     "output_type": "stream",
     "text": [
      "(10,)\n"
     ]
    }
   ],
   "source": [
    "print(vet1.shape)"
   ]
  },
  {
   "cell_type": "markdown",
   "metadata": {},
   "source": [
    "## NumPy Functions"
   ]
  },
  {
   "cell_type": "code",
   "execution_count": 17,
   "metadata": {},
   "outputs": [
    {
     "name": "stdout",
     "output_type": "stream",
     "text": [
      "Help on built-in function arange in module numpy:\n",
      "\n",
      "arange(...)\n",
      "    arange([start,] stop[, step,], dtype=None)\n",
      "    \n",
      "    Return evenly spaced values within a given interval.\n",
      "    \n",
      "    Values are generated within the half-open interval ``[start, stop)``\n",
      "    (in other words, the interval including `start` but excluding `stop`).\n",
      "    For integer arguments the function is equivalent to the Python built-in\n",
      "    `range` function, but returns an ndarray rather than a list.\n",
      "    \n",
      "    When using a non-integer step, such as 0.1, the results will often not\n",
      "    be consistent.  It is better to use `numpy.linspace` for these cases.\n",
      "    \n",
      "    Parameters\n",
      "    ----------\n",
      "    start : number, optional\n",
      "        Start of interval.  The interval includes this value.  The default\n",
      "        start value is 0.\n",
      "    stop : number\n",
      "        End of interval.  The interval does not include this value, except\n",
      "        in some cases where `step` is not an integer and floating point\n",
      "        round-off affects the length of `out`.\n",
      "    step : number, optional\n",
      "        Spacing between values.  For any output `out`, this is the distance\n",
      "        between two adjacent values, ``out[i+1] - out[i]``.  The default\n",
      "        step size is 1.  If `step` is specified as a position argument,\n",
      "        `start` must also be given.\n",
      "    dtype : dtype\n",
      "        The type of the output array.  If `dtype` is not given, infer the data\n",
      "        type from the other input arguments.\n",
      "    \n",
      "    Returns\n",
      "    -------\n",
      "    arange : ndarray\n",
      "        Array of evenly spaced values.\n",
      "    \n",
      "        For floating point arguments, the length of the result is\n",
      "        ``ceil((stop - start)/step)``.  Because of floating point overflow,\n",
      "        this rule may result in the last element of `out` being greater\n",
      "        than `stop`.\n",
      "    \n",
      "    See Also\n",
      "    --------\n",
      "    numpy.linspace : Evenly spaced numbers with careful handling of endpoints.\n",
      "    numpy.ogrid: Arrays of evenly spaced numbers in N-dimensions.\n",
      "    numpy.mgrid: Grid-shaped arrays of evenly spaced numbers in N-dimensions.\n",
      "    \n",
      "    Examples\n",
      "    --------\n",
      "    >>> np.arange(3)\n",
      "    array([0, 1, 2])\n",
      "    >>> np.arange(3.0)\n",
      "    array([ 0.,  1.,  2.])\n",
      "    >>> np.arange(3,7)\n",
      "    array([3, 4, 5, 6])\n",
      "    >>> np.arange(3,7,2)\n",
      "    array([3, 5])\n",
      "\n"
     ]
    }
   ],
   "source": [
    "help(np.arange)"
   ]
  },
  {
   "cell_type": "code",
   "execution_count": 19,
   "metadata": {},
   "outputs": [],
   "source": [
    "vet2 = np.arange(0., 4.5, .5)"
   ]
  },
  {
   "cell_type": "code",
   "execution_count": 20,
   "metadata": {},
   "outputs": [
    {
     "name": "stdout",
     "output_type": "stream",
     "text": [
      "[0.  0.5 1.  1.5 2.  2.5 3.  3.5 4. ]\n"
     ]
    }
   ],
   "source": [
    "print(vet2)"
   ]
  },
  {
   "cell_type": "code",
   "execution_count": 21,
   "metadata": {},
   "outputs": [
    {
     "data": {
      "text/plain": [
       "numpy.ndarray"
      ]
     },
     "execution_count": 21,
     "metadata": {},
     "output_type": "execute_result"
    }
   ],
   "source": [
    "type(vet2)"
   ]
  },
  {
   "cell_type": "code",
   "execution_count": 22,
   "metadata": {},
   "outputs": [
    {
     "name": "stdout",
     "output_type": "stream",
     "text": [
      "Help on function shape in module numpy:\n",
      "\n",
      "shape(a)\n",
      "    Return the shape of an array.\n",
      "    \n",
      "    Parameters\n",
      "    ----------\n",
      "    a : array_like\n",
      "        Input array.\n",
      "    \n",
      "    Returns\n",
      "    -------\n",
      "    shape : tuple of ints\n",
      "        The elements of the shape tuple give the lengths of the\n",
      "        corresponding array dimensions.\n",
      "    \n",
      "    See Also\n",
      "    --------\n",
      "    alen\n",
      "    ndarray.shape : Equivalent array method.\n",
      "    \n",
      "    Examples\n",
      "    --------\n",
      "    >>> np.shape(np.eye(3))\n",
      "    (3, 3)\n",
      "    >>> np.shape([[1, 2]])\n",
      "    (1, 2)\n",
      "    >>> np.shape([0])\n",
      "    (1,)\n",
      "    >>> np.shape(0)\n",
      "    ()\n",
      "    \n",
      "    >>> a = np.array([(1, 2), (3, 4)], dtype=[('x', 'i4'), ('y', 'i4')])\n",
      "    >>> np.shape(a)\n",
      "    (2,)\n",
      "    >>> a.shape\n",
      "    (2,)\n",
      "\n"
     ]
    }
   ],
   "source": [
    "help(np.shape)"
   ]
  },
  {
   "cell_type": "code",
   "execution_count": 23,
   "metadata": {},
   "outputs": [
    {
     "data": {
      "text/plain": [
       "(9,)"
      ]
     },
     "execution_count": 23,
     "metadata": {},
     "output_type": "execute_result"
    }
   ],
   "source": [
    "np.shape(vet2)"
   ]
  },
  {
   "cell_type": "code",
   "execution_count": 24,
   "metadata": {},
   "outputs": [
    {
     "name": "stdout",
     "output_type": "stream",
     "text": [
      "float64\n"
     ]
    }
   ],
   "source": [
    "print (vet2.dtype)"
   ]
  },
  {
   "cell_type": "code",
   "execution_count": 25,
   "metadata": {},
   "outputs": [
    {
     "name": "stdout",
     "output_type": "stream",
     "text": [
      "[1.   1.25 1.5  1.75 2.   2.25 2.5  2.75 3.   3.25 3.5  3.75 4.   4.25\n",
      " 4.5  4.75 5.   5.25 5.5  5.75 6.   6.25 6.5  6.75 7.   7.25 7.5  7.75\n",
      " 8.   8.25 8.5  8.75 9.   9.25 9.5  9.75]\n"
     ]
    }
   ],
   "source": [
    "print(np.arange(1, 10, 0.25))"
   ]
  },
  {
   "cell_type": "code",
   "execution_count": 26,
   "metadata": {},
   "outputs": [
    {
     "name": "stdout",
     "output_type": "stream",
     "text": [
      "[0. 0. 0. 0. 0. 0. 0. 0. 0. 0.]\n"
     ]
    }
   ],
   "source": [
    "print(np.zeros(10))"
   ]
  },
  {
   "cell_type": "code",
   "execution_count": 27,
   "metadata": {},
   "outputs": [
    {
     "name": "stdout",
     "output_type": "stream",
     "text": [
      "Help on built-in function zeros in module numpy:\n",
      "\n",
      "zeros(...)\n",
      "    zeros(shape, dtype=float, order='C')\n",
      "    \n",
      "    Return a new array of given shape and type, filled with zeros.\n",
      "    \n",
      "    Parameters\n",
      "    ----------\n",
      "    shape : int or tuple of ints\n",
      "        Shape of the new array, e.g., ``(2, 3)`` or ``2``.\n",
      "    dtype : data-type, optional\n",
      "        The desired data-type for the array, e.g., `numpy.int8`.  Default is\n",
      "        `numpy.float64`.\n",
      "    order : {'C', 'F'}, optional, default: 'C'\n",
      "        Whether to store multi-dimensional data in row-major\n",
      "        (C-style) or column-major (Fortran-style) order in\n",
      "        memory.\n",
      "    \n",
      "    Returns\n",
      "    -------\n",
      "    out : ndarray\n",
      "        Array of zeros with the given shape, dtype, and order.\n",
      "    \n",
      "    See Also\n",
      "    --------\n",
      "    zeros_like : Return an array of zeros with shape and type of input.\n",
      "    empty : Return a new uninitialized array.\n",
      "    ones : Return a new array setting values to one.\n",
      "    full : Return a new array of given shape filled with value.\n",
      "    \n",
      "    Examples\n",
      "    --------\n",
      "    >>> np.zeros(5)\n",
      "    array([ 0.,  0.,  0.,  0.,  0.])\n",
      "    \n",
      "    >>> np.zeros((5,), dtype=int)\n",
      "    array([0, 0, 0, 0, 0])\n",
      "    \n",
      "    >>> np.zeros((2, 1))\n",
      "    array([[ 0.],\n",
      "           [ 0.]])\n",
      "    \n",
      "    >>> s = (2,2)\n",
      "    >>> np.zeros(s)\n",
      "    array([[ 0.,  0.],\n",
      "           [ 0.,  0.]])\n",
      "    \n",
      "    >>> np.zeros((2,), dtype=[('x', 'i4'), ('y', 'i4')]) # custom dtype\n",
      "    array([(0, 0), (0, 0)],\n",
      "          dtype=[('x', '<i4'), ('y', '<i4')])\n",
      "\n"
     ]
    }
   ],
   "source": [
    "help(np.zeros)"
   ]
  },
  {
   "cell_type": "code",
   "execution_count": 32,
   "metadata": {},
   "outputs": [
    {
     "data": {
      "text/plain": [
       "array([[0., 0., 0., 0., 0.],\n",
       "       [0., 0., 0., 0., 0.],\n",
       "       [0., 0., 0., 0., 0.],\n",
       "       [0., 0., 0., 0., 0.],\n",
       "       [0., 0., 0., 0., 0.]])"
      ]
     },
     "execution_count": 32,
     "metadata": {},
     "output_type": "execute_result"
    }
   ],
   "source": [
    "np.zeros((5, 5))"
   ]
  },
  {
   "cell_type": "code",
   "execution_count": 33,
   "metadata": {},
   "outputs": [
    {
     "name": "stdout",
     "output_type": "stream",
     "text": [
      "Help on function eye in module numpy:\n",
      "\n",
      "eye(N, M=None, k=0, dtype=<class 'float'>, order='C')\n",
      "    Return a 2-D array with ones on the diagonal and zeros elsewhere.\n",
      "    \n",
      "    Parameters\n",
      "    ----------\n",
      "    N : int\n",
      "      Number of rows in the output.\n",
      "    M : int, optional\n",
      "      Number of columns in the output. If None, defaults to `N`.\n",
      "    k : int, optional\n",
      "      Index of the diagonal: 0 (the default) refers to the main diagonal,\n",
      "      a positive value refers to an upper diagonal, and a negative value\n",
      "      to a lower diagonal.\n",
      "    dtype : data-type, optional\n",
      "      Data-type of the returned array.\n",
      "    order : {'C', 'F'}, optional\n",
      "        Whether the output should be stored in row-major (C-style) or\n",
      "        column-major (Fortran-style) order in memory.\n",
      "    \n",
      "        .. versionadded:: 1.14.0\n",
      "    \n",
      "    Returns\n",
      "    -------\n",
      "    I : ndarray of shape (N,M)\n",
      "      An array where all elements are equal to zero, except for the `k`-th\n",
      "      diagonal, whose values are equal to one.\n",
      "    \n",
      "    See Also\n",
      "    --------\n",
      "    identity : (almost) equivalent function\n",
      "    diag : diagonal 2-D array from a 1-D array specified by the user.\n",
      "    \n",
      "    Examples\n",
      "    --------\n",
      "    >>> np.eye(2, dtype=int)\n",
      "    array([[1, 0],\n",
      "           [0, 1]])\n",
      "    >>> np.eye(3, k=1)\n",
      "    array([[0.,  1.,  0.],\n",
      "           [0.,  0.,  1.],\n",
      "           [0.,  0.,  0.]])\n",
      "\n"
     ]
    }
   ],
   "source": [
    "help(np.eye)"
   ]
  },
  {
   "cell_type": "code",
   "execution_count": 37,
   "metadata": {},
   "outputs": [
    {
     "data": {
      "text/plain": [
       "array([[1., 0., 0., 0., 0.],\n",
       "       [0., 1., 0., 0., 0.],\n",
       "       [0., 0., 1., 0., 0.],\n",
       "       [0., 0., 0., 1., 0.],\n",
       "       [0., 0., 0., 0., 1.]])"
      ]
     },
     "execution_count": 37,
     "metadata": {},
     "output_type": "execute_result"
    }
   ],
   "source": [
    "np.eye(5)"
   ]
  },
  {
   "cell_type": "code",
   "execution_count": 38,
   "metadata": {},
   "outputs": [
    {
     "data": {
      "text/plain": [
       "array([[0., 1., 0., 0., 0.],\n",
       "       [0., 0., 1., 0., 0.],\n",
       "       [0., 0., 0., 1., 0.],\n",
       "       [0., 0., 0., 0., 1.],\n",
       "       [0., 0., 0., 0., 0.]])"
      ]
     },
     "execution_count": 38,
     "metadata": {},
     "output_type": "execute_result"
    }
   ],
   "source": [
    "np.eye(5, k=1)"
   ]
  },
  {
   "cell_type": "code",
   "execution_count": 39,
   "metadata": {},
   "outputs": [
    {
     "data": {
      "text/plain": [
       "array([[0., 0., 0., 0., 0.],\n",
       "       [1., 0., 0., 0., 0.],\n",
       "       [0., 1., 0., 0., 0.],\n",
       "       [0., 0., 1., 0., 0.],\n",
       "       [0., 0., 0., 1., 0.]])"
      ]
     },
     "execution_count": 39,
     "metadata": {},
     "output_type": "execute_result"
    }
   ],
   "source": [
    "np.eye(5, k=-1)"
   ]
  },
  {
   "cell_type": "code",
   "execution_count": 40,
   "metadata": {},
   "outputs": [
    {
     "name": "stdout",
     "output_type": "stream",
     "text": [
      "Help on function diag in module numpy:\n",
      "\n",
      "diag(v, k=0)\n",
      "    Extract a diagonal or construct a diagonal array.\n",
      "    \n",
      "    See the more detailed documentation for ``numpy.diagonal`` if you use this\n",
      "    function to extract a diagonal and wish to write to the resulting array;\n",
      "    whether it returns a copy or a view depends on what version of numpy you\n",
      "    are using.\n",
      "    \n",
      "    Parameters\n",
      "    ----------\n",
      "    v : array_like\n",
      "        If `v` is a 2-D array, return a copy of its `k`-th diagonal.\n",
      "        If `v` is a 1-D array, return a 2-D array with `v` on the `k`-th\n",
      "        diagonal.\n",
      "    k : int, optional\n",
      "        Diagonal in question. The default is 0. Use `k>0` for diagonals\n",
      "        above the main diagonal, and `k<0` for diagonals below the main\n",
      "        diagonal.\n",
      "    \n",
      "    Returns\n",
      "    -------\n",
      "    out : ndarray\n",
      "        The extracted diagonal or constructed diagonal array.\n",
      "    \n",
      "    See Also\n",
      "    --------\n",
      "    diagonal : Return specified diagonals.\n",
      "    diagflat : Create a 2-D array with the flattened input as a diagonal.\n",
      "    trace : Sum along diagonals.\n",
      "    triu : Upper triangle of an array.\n",
      "    tril : Lower triangle of an array.\n",
      "    \n",
      "    Examples\n",
      "    --------\n",
      "    >>> x = np.arange(9).reshape((3,3))\n",
      "    >>> x\n",
      "    array([[0, 1, 2],\n",
      "           [3, 4, 5],\n",
      "           [6, 7, 8]])\n",
      "    \n",
      "    >>> np.diag(x)\n",
      "    array([0, 4, 8])\n",
      "    >>> np.diag(x, k=1)\n",
      "    array([1, 5])\n",
      "    >>> np.diag(x, k=-1)\n",
      "    array([3, 7])\n",
      "    \n",
      "    >>> np.diag(np.diag(x))\n",
      "    array([[0, 0, 0],\n",
      "           [0, 4, 0],\n",
      "           [0, 0, 8]])\n",
      "\n"
     ]
    }
   ],
   "source": [
    "help(np.diag)"
   ]
  },
  {
   "cell_type": "code",
   "execution_count": 41,
   "metadata": {},
   "outputs": [
    {
     "data": {
      "text/plain": [
       "array([[1, 0, 0, 0],\n",
       "       [0, 2, 0, 0],\n",
       "       [0, 0, 3, 0],\n",
       "       [0, 0, 0, 4]])"
      ]
     },
     "execution_count": 41,
     "metadata": {},
     "output_type": "execute_result"
    }
   ],
   "source": [
    "np.diag(np.array([1, 2, 3, 4]))"
   ]
  },
  {
   "cell_type": "code",
   "execution_count": 42,
   "metadata": {},
   "outputs": [
    {
     "data": {
      "text/plain": [
       "array([[0, 1, 0, 0, 0],\n",
       "       [0, 0, 2, 0, 0],\n",
       "       [0, 0, 0, 3, 0],\n",
       "       [0, 0, 0, 0, 4],\n",
       "       [0, 0, 0, 0, 0]])"
      ]
     },
     "execution_count": 42,
     "metadata": {},
     "output_type": "execute_result"
    }
   ],
   "source": [
    "np.diag(np.array([1, 2, 3, 4]), k=1)"
   ]
  },
  {
   "cell_type": "code",
   "execution_count": 43,
   "metadata": {},
   "outputs": [
    {
     "data": {
      "text/plain": [
       "array([1.+2.j, 3.+4.j, 5.+6.j])"
      ]
     },
     "execution_count": 43,
     "metadata": {},
     "output_type": "execute_result"
    }
   ],
   "source": [
    "np.array([1+2j, 3+4j, 5+6*1j])"
   ]
  },
  {
   "cell_type": "code",
   "execution_count": 44,
   "metadata": {},
   "outputs": [
    {
     "data": {
      "text/plain": [
       "array([ True, False, False,  True])"
      ]
     },
     "execution_count": 44,
     "metadata": {},
     "output_type": "execute_result"
    }
   ],
   "source": [
    "np.array([True, False, False, True])"
   ]
  },
  {
   "cell_type": "code",
   "execution_count": 45,
   "metadata": {},
   "outputs": [
    {
     "data": {
      "text/plain": [
       "array(['Python', 'R', 'Julia'], dtype='<U6')"
      ]
     },
     "execution_count": 45,
     "metadata": {},
     "output_type": "execute_result"
    }
   ],
   "source": [
    "np.array(['Python', 'R', 'Julia'])"
   ]
  },
  {
   "cell_type": "code",
   "execution_count": 46,
   "metadata": {},
   "outputs": [
    {
     "name": "stdout",
     "output_type": "stream",
     "text": [
      "Help on function linspace in module numpy:\n",
      "\n",
      "linspace(start, stop, num=50, endpoint=True, retstep=False, dtype=None, axis=0)\n",
      "    Return evenly spaced numbers over a specified interval.\n",
      "    \n",
      "    Returns `num` evenly spaced samples, calculated over the\n",
      "    interval [`start`, `stop`].\n",
      "    \n",
      "    The endpoint of the interval can optionally be excluded.\n",
      "    \n",
      "    .. versionchanged:: 1.16.0\n",
      "        Non-scalar `start` and `stop` are now supported.\n",
      "    \n",
      "    Parameters\n",
      "    ----------\n",
      "    start : array_like\n",
      "        The starting value of the sequence.\n",
      "    stop : array_like\n",
      "        The end value of the sequence, unless `endpoint` is set to False.\n",
      "        In that case, the sequence consists of all but the last of ``num + 1``\n",
      "        evenly spaced samples, so that `stop` is excluded.  Note that the step\n",
      "        size changes when `endpoint` is False.\n",
      "    num : int, optional\n",
      "        Number of samples to generate. Default is 50. Must be non-negative.\n",
      "    endpoint : bool, optional\n",
      "        If True, `stop` is the last sample. Otherwise, it is not included.\n",
      "        Default is True.\n",
      "    retstep : bool, optional\n",
      "        If True, return (`samples`, `step`), where `step` is the spacing\n",
      "        between samples.\n",
      "    dtype : dtype, optional\n",
      "        The type of the output array.  If `dtype` is not given, infer the data\n",
      "        type from the other input arguments.\n",
      "    \n",
      "        .. versionadded:: 1.9.0\n",
      "    \n",
      "    axis : int, optional\n",
      "        The axis in the result to store the samples.  Relevant only if start\n",
      "        or stop are array-like.  By default (0), the samples will be along a\n",
      "        new axis inserted at the beginning. Use -1 to get an axis at the end.\n",
      "    \n",
      "        .. versionadded:: 1.16.0\n",
      "    \n",
      "    Returns\n",
      "    -------\n",
      "    samples : ndarray\n",
      "        There are `num` equally spaced samples in the closed interval\n",
      "        ``[start, stop]`` or the half-open interval ``[start, stop)``\n",
      "        (depending on whether `endpoint` is True or False).\n",
      "    step : float, optional\n",
      "        Only returned if `retstep` is True\n",
      "    \n",
      "        Size of spacing between samples.\n",
      "    \n",
      "    \n",
      "    See Also\n",
      "    --------\n",
      "    arange : Similar to `linspace`, but uses a step size (instead of the\n",
      "             number of samples).\n",
      "    geomspace : Similar to `linspace`, but with numbers spaced evenly on a log\n",
      "                scale (a geometric progression).\n",
      "    logspace : Similar to `geomspace`, but with the end points specified as\n",
      "               logarithms.\n",
      "    \n",
      "    Examples\n",
      "    --------\n",
      "    >>> np.linspace(2.0, 3.0, num=5)\n",
      "    array([2.  , 2.25, 2.5 , 2.75, 3.  ])\n",
      "    >>> np.linspace(2.0, 3.0, num=5, endpoint=False)\n",
      "    array([2. ,  2.2,  2.4,  2.6,  2.8])\n",
      "    >>> np.linspace(2.0, 3.0, num=5, retstep=True)\n",
      "    (array([2.  ,  2.25,  2.5 ,  2.75,  3.  ]), 0.25)\n",
      "    \n",
      "    Graphical illustration:\n",
      "    \n",
      "    >>> import matplotlib.pyplot as plt\n",
      "    >>> N = 8\n",
      "    >>> y = np.zeros(N)\n",
      "    >>> x1 = np.linspace(0, 10, N, endpoint=True)\n",
      "    >>> x2 = np.linspace(0, 10, N, endpoint=False)\n",
      "    >>> plt.plot(x1, y, 'o')\n",
      "    [<matplotlib.lines.Line2D object at 0x...>]\n",
      "    >>> plt.plot(x2, y + 0.5, 'o')\n",
      "    [<matplotlib.lines.Line2D object at 0x...>]\n",
      "    >>> plt.ylim([-0.5, 1])\n",
      "    (-0.5, 1)\n",
      "    >>> plt.show()\n",
      "\n"
     ]
    }
   ],
   "source": [
    "help(np.linspace)"
   ]
  },
  {
   "cell_type": "code",
   "execution_count": 50,
   "metadata": {},
   "outputs": [
    {
     "data": {
      "text/plain": [
       "array([ 0.        ,  1.66666667,  3.33333333,  5.        ,  6.66666667,\n",
       "        8.33333333, 10.        ])"
      ]
     },
     "execution_count": 50,
     "metadata": {},
     "output_type": "execute_result"
    }
   ],
   "source": [
    "np.linspace(0, 10, num=7)"
   ]
  },
  {
   "cell_type": "code",
   "execution_count": 53,
   "metadata": {},
   "outputs": [],
   "source": [
    "mtx1 = np.array([[1,2,3],[4,5,6]])"
   ]
  },
  {
   "cell_type": "code",
   "execution_count": 54,
   "metadata": {},
   "outputs": [
    {
     "data": {
      "text/plain": [
       "(2, 3)"
      ]
     },
     "execution_count": 54,
     "metadata": {},
     "output_type": "execute_result"
    }
   ],
   "source": [
    "mtx1.shape"
   ]
  },
  {
   "cell_type": "code",
   "execution_count": 55,
   "metadata": {},
   "outputs": [],
   "source": [
    "mtx2 = np.ones((3,5))"
   ]
  },
  {
   "cell_type": "code",
   "execution_count": 56,
   "metadata": {},
   "outputs": [
    {
     "data": {
      "text/plain": [
       "array([[1., 1., 1., 1., 1.],\n",
       "       [1., 1., 1., 1., 1.],\n",
       "       [1., 1., 1., 1., 1.]])"
      ]
     },
     "execution_count": 56,
     "metadata": {},
     "output_type": "execute_result"
    }
   ],
   "source": [
    "mtx2"
   ]
  },
  {
   "cell_type": "code",
   "execution_count": 57,
   "metadata": {},
   "outputs": [
    {
     "data": {
      "text/plain": [
       "(3, 5)"
      ]
     },
     "execution_count": 57,
     "metadata": {},
     "output_type": "execute_result"
    }
   ],
   "source": [
    "np.shape(mtx2)"
   ]
  },
  {
   "cell_type": "code",
   "execution_count": 58,
   "metadata": {},
   "outputs": [
    {
     "data": {
      "text/plain": [
       "(3, 5)"
      ]
     },
     "execution_count": 58,
     "metadata": {},
     "output_type": "execute_result"
    }
   ],
   "source": [
    "mtx2.shape"
   ]
  },
  {
   "cell_type": "code",
   "execution_count": 59,
   "metadata": {},
   "outputs": [],
   "source": [
    "list1 = [[13,81,22], [0, 34, 59], [21, 48, 94]]"
   ]
  },
  {
   "cell_type": "code",
   "execution_count": 60,
   "metadata": {},
   "outputs": [],
   "source": [
    "mtx3 = np.matrix(list1)"
   ]
  },
  {
   "cell_type": "code",
   "execution_count": 61,
   "metadata": {},
   "outputs": [
    {
     "data": {
      "text/plain": [
       "matrix([[13, 81, 22],\n",
       "        [ 0, 34, 59],\n",
       "        [21, 48, 94]])"
      ]
     },
     "execution_count": 61,
     "metadata": {},
     "output_type": "execute_result"
    }
   ],
   "source": [
    "mtx3"
   ]
  },
  {
   "cell_type": "code",
   "execution_count": 62,
   "metadata": {},
   "outputs": [
    {
     "data": {
      "text/plain": [
       "numpy.matrix"
      ]
     },
     "execution_count": 62,
     "metadata": {},
     "output_type": "execute_result"
    }
   ],
   "source": [
    "type(mtx3)"
   ]
  },
  {
   "cell_type": "code",
   "execution_count": 63,
   "metadata": {},
   "outputs": [
    {
     "data": {
      "text/plain": [
       "9"
      ]
     },
     "execution_count": 63,
     "metadata": {},
     "output_type": "execute_result"
    }
   ],
   "source": [
    "mtx3.size"
   ]
  },
  {
   "cell_type": "code",
   "execution_count": 64,
   "metadata": {},
   "outputs": [
    {
     "data": {
      "text/plain": [
       "dtype('int64')"
      ]
     },
     "execution_count": 64,
     "metadata": {},
     "output_type": "execute_result"
    }
   ],
   "source": [
    "mtx3.dtype"
   ]
  },
  {
   "cell_type": "code",
   "execution_count": 65,
   "metadata": {},
   "outputs": [
    {
     "data": {
      "text/plain": [
       "8"
      ]
     },
     "execution_count": 65,
     "metadata": {},
     "output_type": "execute_result"
    }
   ],
   "source": [
    "mtx3.itemsize"
   ]
  },
  {
   "cell_type": "code",
   "execution_count": 66,
   "metadata": {},
   "outputs": [
    {
     "data": {
      "text/plain": [
       "72"
      ]
     },
     "execution_count": 66,
     "metadata": {},
     "output_type": "execute_result"
    }
   ],
   "source": [
    "mtx3.nbytes"
   ]
  },
  {
   "cell_type": "code",
   "execution_count": 67,
   "metadata": {},
   "outputs": [
    {
     "data": {
      "text/plain": [
       "48"
      ]
     },
     "execution_count": 67,
     "metadata": {},
     "output_type": "execute_result"
    }
   ],
   "source": [
    "mtx3[2,1]"
   ]
  },
  {
   "cell_type": "code",
   "execution_count": 68,
   "metadata": {},
   "outputs": [],
   "source": [
    "mtx3[2,1] = 100"
   ]
  },
  {
   "cell_type": "code",
   "execution_count": 69,
   "metadata": {},
   "outputs": [
    {
     "data": {
      "text/plain": [
       "matrix([[ 13,  81,  22],\n",
       "        [  0,  34,  59],\n",
       "        [ 21, 100,  94]])"
      ]
     },
     "execution_count": 69,
     "metadata": {},
     "output_type": "execute_result"
    }
   ],
   "source": [
    "mtx3"
   ]
  },
  {
   "cell_type": "code",
   "execution_count": 70,
   "metadata": {},
   "outputs": [
    {
     "name": "stdout",
     "output_type": "stream",
     "text": [
      "int64 float64 float64\n"
     ]
    }
   ],
   "source": [
    "x = np.array([1, 2])  #NumPy\n",
    "y = np.array([1.0, 2.0])  #NumPy\n",
    "z = np.array([1, 2], dtype=np.float64)\n",
    "\n",
    "print (x.dtype, y.dtype, z.dtype)"
   ]
  },
  {
   "cell_type": "code",
   "execution_count": 73,
   "metadata": {},
   "outputs": [],
   "source": [
    "mtx4 = np.array([[24, 76], [35, 89]], dtype=float)"
   ]
  },
  {
   "cell_type": "code",
   "execution_count": 74,
   "metadata": {},
   "outputs": [],
   "source": [
    "mtx5 = np.array([[24, 76], [35, 89]])"
   ]
  },
  {
   "cell_type": "code",
   "execution_count": 75,
   "metadata": {},
   "outputs": [
    {
     "data": {
      "text/plain": [
       "array([[24., 76.],\n",
       "       [35., 89.]])"
      ]
     },
     "execution_count": 75,
     "metadata": {},
     "output_type": "execute_result"
    }
   ],
   "source": [
    "mtx4"
   ]
  },
  {
   "cell_type": "code",
   "execution_count": 76,
   "metadata": {},
   "outputs": [
    {
     "data": {
      "text/plain": [
       "array([[24, 76],\n",
       "       [35, 89]])"
      ]
     },
     "execution_count": 76,
     "metadata": {},
     "output_type": "execute_result"
    }
   ],
   "source": [
    "mtx5"
   ]
  },
  {
   "cell_type": "code",
   "execution_count": 77,
   "metadata": {},
   "outputs": [
    {
     "data": {
      "text/plain": [
       "32"
      ]
     },
     "execution_count": 77,
     "metadata": {},
     "output_type": "execute_result"
    }
   ],
   "source": [
    "mtx4.nbytes"
   ]
  },
  {
   "cell_type": "code",
   "execution_count": 79,
   "metadata": {},
   "outputs": [
    {
     "data": {
      "text/plain": [
       "2"
      ]
     },
     "execution_count": 79,
     "metadata": {},
     "output_type": "execute_result"
    }
   ],
   "source": [
    "mtx4.ndim"
   ]
  },
  {
   "cell_type": "markdown",
   "metadata": {},
   "source": [
    "## Numpy random()"
   ]
  },
  {
   "cell_type": "code",
   "execution_count": 80,
   "metadata": {},
   "outputs": [
    {
     "name": "stdout",
     "output_type": "stream",
     "text": [
      "[0.29665253 0.18690467 0.23684852 0.25107241 0.23996886 0.13740326\n",
      " 0.76667653 0.96566573 0.86043678 0.98791482]\n"
     ]
    }
   ],
   "source": [
    "print(np.random.rand(10))"
   ]
  },
  {
   "cell_type": "code",
   "execution_count": 81,
   "metadata": {},
   "outputs": [
    {
     "name": "stdout",
     "output_type": "stream",
     "text": [
      "Help on built-in function rand:\n",
      "\n",
      "rand(...) method of numpy.random.mtrand.RandomState instance\n",
      "    rand(d0, d1, ..., dn)\n",
      "    \n",
      "    Random values in a given shape.\n",
      "    \n",
      "    .. note::\n",
      "        This is a convenience function for users porting code from Matlab,\n",
      "        and wraps `random_sample`. That function takes a\n",
      "        tuple to specify the size of the output, which is consistent with\n",
      "        other NumPy functions like `numpy.zeros` and `numpy.ones`.\n",
      "    \n",
      "    Create an array of the given shape and populate it with\n",
      "    random samples from a uniform distribution\n",
      "    over ``[0, 1)``.\n",
      "    \n",
      "    Parameters\n",
      "    ----------\n",
      "    d0, d1, ..., dn : int, optional\n",
      "        The dimensions of the returned array, must be non-negative.\n",
      "        If no argument is given a single Python float is returned.\n",
      "    \n",
      "    Returns\n",
      "    -------\n",
      "    out : ndarray, shape ``(d0, d1, ..., dn)``\n",
      "        Random values.\n",
      "    \n",
      "    See Also\n",
      "    --------\n",
      "    random\n",
      "    \n",
      "    Examples\n",
      "    --------\n",
      "    >>> np.random.rand(3,2)\n",
      "    array([[ 0.14022471,  0.96360618],  #random\n",
      "           [ 0.37601032,  0.25528411],  #random\n",
      "           [ 0.49313049,  0.94909878]]) #random\n",
      "\n"
     ]
    }
   ],
   "source": [
    "help(np.random.rand)"
   ]
  },
  {
   "cell_type": "code",
   "execution_count": 85,
   "metadata": {},
   "outputs": [
    {
     "name": "stdout",
     "output_type": "stream",
     "text": [
      "[[0.1789253  0.83805245 0.82221828]\n",
      " [0.40935482 0.53182018 0.94214707]\n",
      " [0.25600185 0.14667344 0.48741297]\n",
      " [0.77072407 0.01731961 0.59173555]\n",
      " [0.19535455 0.69985859 0.0365021 ]\n",
      " [0.71305335 0.56005333 0.72188525]\n",
      " [0.56257857 0.95009432 0.49552205]\n",
      " [0.87981048 0.23099078 0.37836119]\n",
      " [0.65464192 0.0789954  0.06072065]\n",
      " [0.83240052 0.65644046 0.53378346]]\n"
     ]
    }
   ],
   "source": [
    "print(np.random.rand(10, 3))"
   ]
  },
  {
   "cell_type": "code",
   "execution_count": 86,
   "metadata": {},
   "outputs": [
    {
     "data": {
      "text/plain": [
       "'3.3.2'"
      ]
     },
     "execution_count": 86,
     "metadata": {},
     "output_type": "execute_result"
    }
   ],
   "source": [
    "import matplotlib as mat\n",
    "mat.__version__"
   ]
  },
  {
   "cell_type": "code",
   "execution_count": 87,
   "metadata": {},
   "outputs": [],
   "source": [
    "import matplotlib.pyplot as plt\n",
    "%matplotlib inline"
   ]
  },
  {
   "cell_type": "code",
   "execution_count": 88,
   "metadata": {},
   "outputs": [
    {
     "name": "stdout",
     "output_type": "stream",
     "text": [
      "[0.97518438 0.16851959 0.37175276 0.09207284 0.88999801 0.05429224\n",
      " 0.55773599 0.72320654 0.95927665 0.55939532]\n"
     ]
    }
   ],
   "source": [
    "print(np.random.rand(10))"
   ]
  },
  {
   "cell_type": "code",
   "execution_count": 93,
   "metadata": {},
   "outputs": [
    {
     "data": {
      "image/png": "[encoded data removed]",
      "text/plain": [
       "<Figure size 432x288 with 1 Axes>"
      ]
     },
     "metadata": {
      "needs_background": "light"
     },
     "output_type": "display_data"
    }
   ],
   "source": [
    "plt.show(plt.hist(np.random.rand(1000)))"
   ]
  },
  {
   "cell_type": "code",
   "execution_count": 95,
   "metadata": {},
   "outputs": [
    {
     "data": {
      "text/plain": [
       "array([-1.43880596, -1.17882434, -1.52412124,  0.7853762 ,  1.931052  ,\n",
       "        0.40110986,  1.28294539,  0.23520477, -0.3600546 , -0.31443047,\n",
       "       -1.26049934,  0.19030387, -0.29033551,  0.55911765, -0.44080116,\n",
       "       -1.86846191, -1.43658159,  0.4521126 , -0.566666  ,  0.04024197,\n",
       "       -0.28398003,  1.29092091,  0.95743977,  0.43310439, -0.25239615,\n",
       "        1.9816169 ,  0.70262327, -1.20330564,  0.32078325,  0.53361137,\n",
       "        0.8459001 ,  0.05547638,  1.05683673, -0.74083074, -0.56617244,\n",
       "        0.17942055,  0.24537285, -0.53103767, -0.61514238, -0.68248502,\n",
       "        1.21725859, -0.21982815,  0.23370296, -1.40385643,  0.45937683,\n",
       "        1.81956011, -1.76672031, -1.06897187, -3.19044569,  0.79742456,\n",
       "        1.2373766 ,  0.90213293,  0.07126992, -0.18530346, -0.51975278,\n",
       "       -0.57736787, -0.17252346, -0.02120166,  1.05766717, -0.81927115,\n",
       "        1.18436676, -0.81003177, -0.49527248,  0.97075162,  0.53822502,\n",
       "        1.76069225,  0.41373181, -0.5237525 ,  0.79560617, -0.94449403,\n",
       "       -1.02842457, -1.31482748, -1.08510221,  0.63680361, -0.56199965,\n",
       "        0.20627093, -1.3569756 , -1.45245755, -0.20046098,  1.91536308,\n",
       "       -0.01193742, -0.89534811,  0.49556142,  1.97079462,  0.57184371,\n",
       "       -0.63138413, -0.48917611,  1.11522664, -0.74073048, -0.19146533,\n",
       "       -0.01320003, -0.77861972, -0.91138532, -0.10480396,  0.71539063,\n",
       "       -0.12266867, -0.6204883 , -0.58518628,  0.0933816 ,  1.33528996])"
      ]
     },
     "execution_count": 95,
     "metadata": {},
     "output_type": "execute_result"
    }
   ],
   "source": [
    "np.random.randn(100)"
   ]
  },
  {
   "cell_type": "code",
   "execution_count": 96,
   "metadata": {},
   "outputs": [
    {
     "data": {
      "image/png": "[encoded data removed]",
      "text/plain": [
       "<Figure size 432x288 with 1 Axes>"
      ]
     },
     "metadata": {
      "needs_background": "light"
     },
     "output_type": "display_data"
    }
   ],
   "source": [
    "plt.show(plt.hist(np.random.randn(100)))"
   ]
  },
  {
   "cell_type": "code",
   "execution_count": 97,
   "metadata": {},
   "outputs": [],
   "source": [
    "image = np.random.rand(30, 30)"
   ]
  },
  {
   "cell_type": "code",
   "execution_count": 98,
   "metadata": {},
   "outputs": [
    {
     "data": {
      "text/plain": [
       "array([[6.34927909e-01, 6.64183844e-01, 6.40212096e-01, 7.22203711e-01,\n",
       "        8.49340169e-01, 5.70269054e-02, 5.25641190e-02, 4.83837698e-01,\n",
       "        6.24159678e-01, 1.71308708e-01, 9.26528680e-01, 9.70018025e-01,\n",
       "        7.12288538e-01, 3.04086306e-01, 4.74172071e-01, 7.49041903e-01,\n",
       "        6.20480486e-01, 3.46086938e-01, 5.24374677e-01, 3.12910296e-01,\n",
       "        5.47253857e-01, 5.28940640e-01, 8.03418742e-01, 3.08339345e-02,\n",
       "        6.46457040e-01, 6.30692798e-01, 5.55436573e-01, 7.28765319e-01,\n",
       "        4.43255896e-01, 7.15843067e-01],\n",
       "       [6.93760737e-01, 6.61585373e-01, 4.24505770e-01, 9.55413047e-01,\n",
       "        9.48623711e-01, 5.68096861e-02, 5.48930726e-01, 1.72856371e-01,\n",
       "        7.69998714e-01, 3.89474418e-01, 8.78719842e-01, 5.61987785e-01,\n",
       "        9.29213881e-01, 5.51658839e-01, 1.92666617e-01, 7.74895200e-01,\n",
       "        7.87970060e-01, 7.28451323e-01, 3.84643736e-02, 8.75751310e-02,\n",
       "        3.70231886e-01, 5.94852646e-01, 7.40112870e-01, 5.30528696e-01,\n",
       "        3.20123573e-01, 2.95251008e-01, 5.62380418e-01, 6.98146936e-01,\n",
       "        2.32985883e-01, 3.83758290e-01],\n",
       "       [8.80239843e-01, 2.92706126e-01, 9.06088656e-01, 1.61203468e-01,\n",
       "        3.54356951e-01, 9.97846897e-01, 3.84393233e-01, 7.52582353e-01,\n",
       "        9.72588028e-01, 7.37559704e-01, 6.30375886e-01, 9.47186588e-01,\n",
       "        9.44588304e-01, 6.30407385e-01, 3.86158637e-01, 4.33815296e-01,\n",
       "        8.24579895e-01, 8.54140231e-01, 1.92432126e-01, 1.54957335e-01,\n",
       "        1.54856637e-01, 8.25032665e-01, 9.61245948e-01, 5.57757058e-01,\n",
       "        2.53103923e-01, 1.68347457e-01, 3.72747351e-01, 5.74119863e-01,\n",
       "        8.55981362e-01, 2.23592791e-02],\n",
       "       [7.73231713e-01, 3.62328378e-01, 3.53844927e-01, 3.51666430e-01,\n",
       "        3.97129463e-01, 6.29014931e-01, 2.36322855e-01, 4.76554538e-01,\n",
       "        8.68574963e-01, 8.17613102e-01, 3.10031026e-01, 9.55390031e-01,\n",
       "        6.91064820e-02, 5.84174005e-01, 8.82842888e-01, 5.71129280e-01,\n",
       "        1.71970896e-01, 9.91073735e-01, 8.34503113e-01, 4.63902428e-01,\n",
       "        1.03804460e-01, 7.60299748e-02, 6.65721737e-01, 8.41104657e-01,\n",
       "        7.89820153e-01, 8.35403682e-01, 9.62966182e-01, 6.13107770e-01,\n",
       "        9.67812327e-01, 5.81013810e-01],\n",
       "       [5.56156271e-01, 4.61634331e-01, 5.93636235e-02, 5.26750390e-02,\n",
       "        2.29577790e-01, 3.31848441e-01, 4.31271433e-01, 8.09476047e-01,\n",
       "        8.93445308e-01, 7.48049584e-01, 9.99558288e-01, 2.18963973e-01,\n",
       "        8.11474871e-01, 4.76087216e-01, 8.89014855e-01, 6.76540495e-01,\n",
       "        8.64834898e-01, 7.59027020e-01, 9.25411296e-01, 5.47453113e-01,\n",
       "        7.06808918e-01, 3.16362557e-02, 2.48899133e-02, 4.92616991e-01,\n",
       "        1.14503376e-01, 6.46110184e-01, 8.48981890e-01, 8.09683149e-01,\n",
       "        5.07163085e-01, 4.83868722e-02],\n",
       "       [5.39076453e-01, 9.51148430e-01, 9.43964078e-01, 1.46572219e-01,\n",
       "        5.24223184e-01, 3.75542868e-01, 1.12408534e-01, 7.12332976e-01,\n",
       "        2.10347907e-01, 6.85111544e-01, 2.14103277e-01, 1.92552320e-01,\n",
       "        1.11529860e-01, 2.65476473e-01, 7.49603397e-01, 4.06848235e-01,\n",
       "        9.09290302e-01, 6.38624459e-01, 5.14262295e-01, 5.83382468e-01,\n",
       "        5.08304021e-01, 4.46042760e-01, 1.61694814e-01, 9.00587189e-01,\n",
       "        5.24525268e-01, 1.79805302e-01, 1.74174395e-01, 9.27522842e-01,\n",
       "        8.58940558e-01, 7.49581605e-01],\n",
       "       [4.24279700e-01, 8.17143430e-01, 8.88092316e-01, 9.89340324e-01,\n",
       "        8.69951731e-01, 5.38801501e-01, 3.27950605e-01, 6.87941450e-01,\n",
       "        9.90421752e-01, 3.98545468e-01, 1.79222485e-01, 4.95297869e-01,\n",
       "        8.41731866e-01, 9.12769548e-01, 8.24963879e-02, 3.90013145e-02,\n",
       "        8.25881538e-01, 2.80920808e-01, 4.73982204e-01, 1.53521343e-01,\n",
       "        5.68007671e-01, 3.34470805e-01, 1.83467430e-01, 2.60003596e-01,\n",
       "        2.91710147e-01, 9.82256225e-01, 5.06563237e-01, 3.99836356e-01,\n",
       "        3.14134842e-01, 8.70897621e-01],\n",
       "       [5.89796787e-01, 7.36690836e-01, 6.88141443e-01, 9.43328105e-01,\n",
       "        1.46292935e-01, 4.50031373e-01, 1.67769127e-01, 8.20977713e-01,\n",
       "        3.39485853e-01, 8.94144371e-01, 7.79840539e-01, 3.57954843e-02,\n",
       "        3.73750871e-01, 8.68168123e-01, 8.93178230e-01, 3.74007851e-01,\n",
       "        7.05871679e-01, 8.00563547e-01, 1.75712734e-01, 1.54171326e-01,\n",
       "        6.02702639e-01, 8.54807537e-01, 7.92762752e-01, 2.48356244e-01,\n",
       "        4.19804616e-01, 7.51955538e-01, 3.45403465e-01, 4.21279867e-01,\n",
       "        2.57661754e-01, 7.07445076e-01],\n",
       "       [4.74693820e-01, 7.31939531e-01, 9.20904334e-01, 4.81004015e-01,\n",
       "        9.72624551e-01, 9.49397693e-01, 4.41214516e-01, 1.31468701e-01,\n",
       "        4.58356385e-01, 4.53896175e-01, 4.08429516e-01, 9.58341830e-01,\n",
       "        9.11620652e-01, 8.59048894e-01, 4.88799877e-01, 6.74661679e-01,\n",
       "        3.53777807e-01, 8.19252187e-01, 8.19832243e-01, 6.75591546e-01,\n",
       "        6.75542390e-01, 5.60715167e-01, 1.32352922e-01, 6.68833139e-01,\n",
       "        6.15841480e-01, 7.81892414e-01, 1.91215049e-01, 3.98136325e-01,\n",
       "        4.05585269e-01, 8.91092153e-01],\n",
       "       [9.98032745e-05, 4.85376389e-01, 6.63890780e-01, 7.49134120e-01,\n",
       "        4.26774816e-01, 5.87364842e-01, 4.95358077e-01, 3.07626204e-01,\n",
       "        8.74143366e-01, 7.16939816e-01, 6.56604268e-01, 7.20104667e-01,\n",
       "        2.22527207e-01, 3.63053380e-01, 9.66344397e-01, 8.82260166e-01,\n",
       "        3.19976127e-01, 7.69379161e-01, 7.57103529e-01, 6.38708835e-01,\n",
       "        1.75491625e-02, 9.81326890e-01, 5.13264383e-02, 8.41076563e-01,\n",
       "        2.81451804e-01, 4.15207319e-02, 3.58895442e-01, 2.04409903e-01,\n",
       "        9.66937101e-01, 8.91011381e-01],\n",
       "       [3.28789189e-01, 5.65046777e-02, 7.67566799e-01, 6.96299874e-01,\n",
       "        4.67010041e-01, 9.00915150e-01, 5.49772869e-01, 6.43358299e-01,\n",
       "        6.00927731e-01, 9.33942406e-01, 5.58624698e-01, 5.67799852e-01,\n",
       "        8.61884797e-01, 7.79319744e-02, 8.87750243e-02, 9.68421536e-02,\n",
       "        6.74024148e-01, 6.07491665e-01, 9.64564252e-01, 5.78665836e-01,\n",
       "        2.68894680e-01, 7.75164208e-01, 4.34770180e-01, 1.44069195e-01,\n",
       "        1.74651465e-01, 9.43692436e-01, 3.30224661e-01, 2.04186052e-02,\n",
       "        8.06180497e-01, 8.99148361e-01],\n",
       "       [4.40055435e-01, 4.09073735e-01, 7.14532410e-01, 1.32913310e-01,\n",
       "        6.45121637e-01, 2.57809374e-01, 6.40246650e-01, 1.15987971e-01,\n",
       "        9.61451507e-01, 3.73851336e-01, 5.76912283e-01, 3.31535167e-01,\n",
       "        3.34282639e-01, 1.63044936e-01, 6.79796546e-01, 1.98605449e-01,\n",
       "        4.08992127e-01, 9.28493955e-01, 8.34888636e-01, 2.64009692e-01,\n",
       "        4.65661535e-01, 9.43608058e-01, 6.63124118e-01, 2.66132700e-01,\n",
       "        7.72064340e-01, 7.42828226e-01, 2.54823763e-01, 5.13649209e-01,\n",
       "        9.42508352e-01, 1.68689401e-01],\n",
       "       [3.21561625e-01, 7.68346863e-01, 4.01296943e-02, 2.86599207e-01,\n",
       "        6.62296146e-01, 3.47808277e-02, 7.34084883e-01, 4.59405848e-01,\n",
       "        4.30266205e-01, 2.73796708e-01, 3.41533064e-01, 9.78105561e-01,\n",
       "        1.54481591e-01, 6.31426025e-01, 7.42145940e-01, 2.75086302e-01,\n",
       "        5.77959066e-01, 9.88633960e-01, 7.47997147e-02, 9.47985133e-01,\n",
       "        3.84972761e-01, 7.43192628e-01, 3.43351882e-01, 6.62671825e-01,\n",
       "        3.75352025e-01, 8.28388543e-02, 1.52715445e-01, 7.35552832e-02,\n",
       "        2.14550430e-02, 1.32249870e-01],\n",
       "       [7.77907477e-01, 1.64611847e-01, 6.92657152e-01, 4.67326656e-01,\n",
       "        5.80279375e-01, 9.32987410e-01, 7.34233521e-01, 7.53700964e-01,\n",
       "        7.65722342e-01, 4.24712574e-02, 3.23837610e-01, 2.16367193e-01,\n",
       "        1.43254877e-01, 8.70957223e-01, 8.63027689e-01, 5.01758995e-01,\n",
       "        8.81403605e-02, 3.70495901e-01, 5.15690424e-01, 9.90173589e-01,\n",
       "        6.56886671e-01, 9.02697734e-01, 4.07074421e-03, 7.47547986e-01,\n",
       "        9.60213965e-02, 3.19925980e-01, 8.36833216e-01, 7.34123287e-01,\n",
       "        5.28989024e-01, 9.99187105e-01],\n",
       "       [7.07977362e-02, 8.76206531e-01, 5.80584257e-01, 9.41582654e-01,\n",
       "        5.83125671e-02, 8.01389938e-01, 4.12709209e-01, 2.59714142e-01,\n",
       "        7.20458904e-01, 7.19921451e-01, 3.23757348e-01, 4.39275936e-02,\n",
       "        9.64524150e-01, 9.77496778e-02, 8.82321083e-01, 3.79080765e-01,\n",
       "        2.90158860e-01, 9.24136880e-01, 7.27430100e-02, 4.07512965e-01,\n",
       "        6.39846204e-01, 5.87343710e-01, 1.80725140e-02, 8.18319556e-01,\n",
       "        6.20131868e-01, 8.26906215e-01, 8.67022716e-01, 7.82626936e-01,\n",
       "        1.46796799e-01, 2.25125366e-01],\n",
       "       [6.87750874e-01, 7.09592844e-01, 4.77193104e-01, 1.82919530e-01,\n",
       "        9.79713137e-02, 3.82939753e-01, 6.94086339e-01, 3.07683758e-01,\n",
       "        2.08117431e-01, 7.93677505e-01, 8.72327436e-01, 8.42675003e-01,\n",
       "        3.90256033e-01, 2.49756471e-02, 6.35626047e-01, 7.89307265e-02,\n",
       "        5.92726294e-01, 2.20521884e-02, 3.87283450e-01, 1.55539246e-03,\n",
       "        2.35416294e-01, 2.54402941e-01, 1.02585307e-01, 6.49223278e-01,\n",
       "        8.51330340e-01, 3.82937817e-01, 8.36536038e-02, 1.86706794e-01,\n",
       "        5.15250211e-01, 2.59188344e-01],\n",
       "       [9.14300574e-01, 6.84185133e-01, 6.63436736e-01, 5.80449359e-01,\n",
       "        2.31195698e-01, 2.48394176e-01, 2.35961488e-02, 1.96610964e-01,\n",
       "        7.59710383e-01, 2.41527631e-01, 6.14471668e-01, 3.41457948e-02,\n",
       "        6.48266358e-01, 5.33036841e-01, 6.76591369e-02, 7.19151282e-01,\n",
       "        4.85758258e-01, 3.54283117e-01, 7.45837434e-01, 3.00230523e-01,\n",
       "        7.69493973e-02, 4.86923101e-01, 8.97678100e-01, 5.63983690e-01,\n",
       "        1.97508630e-01, 4.12531923e-01, 9.65684367e-03, 8.77484746e-01,\n",
       "        8.72867790e-01, 3.85493443e-01],\n",
       "       [3.33759251e-01, 2.17995994e-01, 1.61417104e-02, 2.41253108e-01,\n",
       "        1.44744609e-01, 7.03932767e-01, 6.83956735e-01, 4.79692727e-01,\n",
       "        2.49345623e-01, 4.37329690e-01, 2.79047777e-01, 9.32810154e-01,\n",
       "        4.50352005e-01, 3.65373956e-01, 9.38419480e-01, 7.62508006e-01,\n",
       "        9.41845447e-01, 1.38004063e-01, 9.54484467e-01, 4.62168689e-01,\n",
       "        7.54498766e-01, 8.87768119e-01, 2.27316888e-01, 8.09364146e-01,\n",
       "        7.25836030e-01, 7.98899872e-01, 4.60511360e-01, 3.32415799e-01,\n",
       "        9.90557431e-01, 1.61377657e-01],\n",
       "       [7.34060277e-01, 7.37280814e-01, 8.79642976e-01, 8.92678707e-01,\n",
       "        1.15281025e-01, 7.52889688e-01, 2.82081362e-02, 3.73073786e-01,\n",
       "        3.39834852e-01, 6.68644433e-01, 2.82906308e-01, 5.68441859e-01,\n",
       "        1.66610324e-01, 2.68049382e-01, 3.25504016e-01, 9.05539416e-01,\n",
       "        3.66509812e-01, 7.99289069e-02, 4.06290577e-01, 8.22161233e-01,\n",
       "        2.19507577e-01, 7.91741420e-01, 3.77007992e-01, 7.02260285e-01,\n",
       "        8.66086828e-01, 7.80818667e-01, 8.09525119e-01, 2.27896635e-01,\n",
       "        4.46331245e-01, 8.82536995e-01],\n",
       "       [8.05714100e-01, 3.70123365e-01, 3.92208428e-01, 2.72484874e-01,\n",
       "        8.16161846e-01, 4.02885442e-01, 4.91638854e-01, 6.70468457e-01,\n",
       "        5.23142233e-02, 6.62414676e-01, 1.08721698e-01, 5.61954396e-01,\n",
       "        4.93364502e-01, 3.98977696e-01, 4.21840104e-01, 4.78444764e-01,\n",
       "        7.19618322e-02, 9.59374545e-01, 3.80859058e-01, 5.07602039e-01,\n",
       "        7.06132645e-01, 3.69136008e-02, 3.46206571e-01, 9.63850600e-02,\n",
       "        4.16247581e-01, 3.61850601e-01, 7.32058387e-01, 8.03385360e-01,\n",
       "        6.42572030e-01, 8.90725132e-02],\n",
       "       [3.44129491e-01, 9.90518886e-01, 7.30204915e-01, 6.09865274e-01,\n",
       "        5.19095393e-01, 2.28966551e-01, 7.02317988e-01, 8.14031197e-01,\n",
       "        1.65086621e-01, 4.69551874e-01, 3.60912117e-01, 6.35225636e-01,\n",
       "        9.74858835e-01, 1.30679994e-01, 3.45252356e-01, 8.32191072e-01,\n",
       "        2.80552121e-01, 3.07478823e-01, 6.32587705e-01, 1.99408181e-01,\n",
       "        7.39505152e-01, 9.91501393e-01, 8.00680995e-01, 2.11900731e-01,\n",
       "        8.08992728e-01, 1.47410239e-01, 4.93769319e-01, 3.44635287e-01,\n",
       "        8.74416514e-02, 3.05578399e-01],\n",
       "       [6.03037458e-01, 5.76119976e-01, 5.27491691e-01, 2.97686932e-01,\n",
       "        8.23091686e-01, 9.85495617e-01, 8.39900637e-01, 5.56467191e-01,\n",
       "        1.93856843e-01, 2.33253299e-01, 1.68730215e-01, 9.10001890e-01,\n",
       "        5.43750341e-01, 4.29438364e-01, 6.68577635e-01, 8.48899604e-01,\n",
       "        9.22922016e-01, 8.13036005e-01, 4.52617320e-01, 1.38681345e-01,\n",
       "        3.15362985e-01, 4.83159262e-01, 4.22729537e-01, 6.89597016e-01,\n",
       "        3.54444387e-01, 9.15904339e-01, 3.59723648e-01, 6.28054480e-02,\n",
       "        5.04145800e-01, 9.32982975e-01],\n",
       "       [9.65669517e-02, 8.72184445e-01, 3.14804931e-02, 2.03357364e-01,\n",
       "        4.66012834e-01, 4.49362654e-01, 1.38127483e-02, 7.33625121e-01,\n",
       "        2.30081721e-01, 9.84769216e-01, 2.83605457e-02, 6.40549727e-01,\n",
       "        7.94444197e-01, 9.96990502e-01, 6.97473660e-01, 3.90775756e-01,\n",
       "        3.45945534e-01, 7.10733268e-01, 9.40640626e-01, 2.75769977e-01,\n",
       "        4.11976876e-02, 1.47346539e-01, 2.59070602e-01, 7.67554821e-01,\n",
       "        4.95726258e-01, 7.28145667e-01, 1.98454917e-01, 1.51655475e-02,\n",
       "        1.36753405e-01, 5.39246176e-01],\n",
       "       [6.85237373e-02, 2.63289426e-01, 5.06451602e-01, 2.00203358e-01,\n",
       "        6.78343512e-01, 5.58179519e-01, 4.61397958e-01, 9.98300091e-01,\n",
       "        9.45463286e-04, 3.74166913e-01, 9.27795433e-01, 3.00482015e-01,\n",
       "        1.94216167e-01, 5.61600443e-01, 9.82436935e-01, 3.25951179e-01,\n",
       "        5.87837864e-01, 7.69344273e-02, 9.69977717e-01, 4.73027502e-01,\n",
       "        4.93206432e-01, 1.79773189e-01, 4.70577688e-01, 8.84906694e-01,\n",
       "        6.58414587e-01, 2.00441789e-01, 2.09106080e-01, 7.98122426e-01,\n",
       "        9.57908086e-01, 7.58990171e-01],\n",
       "       [5.51828003e-01, 7.75833895e-01, 8.60673756e-01, 4.68473488e-01,\n",
       "        8.36363945e-01, 2.38833728e-01, 2.74546997e-01, 9.40612059e-01,\n",
       "        9.07375239e-01, 7.17188173e-01, 6.98039376e-01, 2.31431809e-01,\n",
       "        7.68441186e-01, 8.26557854e-01, 6.15194931e-01, 9.55054676e-01,\n",
       "        7.63834610e-01, 6.59259733e-01, 4.78033086e-02, 2.76202224e-01,\n",
       "        7.03401126e-01, 4.24546975e-01, 5.36376409e-01, 3.53376424e-01,\n",
       "        8.63528494e-01, 1.15159891e-01, 2.29322314e-01, 5.91787883e-01,\n",
       "        9.84503191e-01, 8.14302007e-01],\n",
       "       [5.00823208e-01, 2.88392771e-01, 1.71250667e-01, 5.17197962e-01,\n",
       "        4.45025245e-01, 1.78380426e-01, 7.52640984e-03, 9.38857379e-02,\n",
       "        6.29172080e-02, 1.01548733e-01, 1.80590963e-01, 4.54202938e-02,\n",
       "        8.53088684e-01, 3.92116060e-02, 1.64210766e-01, 7.42632464e-01,\n",
       "        5.84360617e-01, 2.68816572e-01, 2.84414132e-01, 6.17419114e-01,\n",
       "        4.78200156e-02, 5.77142399e-02, 7.05443270e-01, 8.83674255e-01,\n",
       "        5.32218922e-01, 3.77682559e-01, 5.69883570e-01, 5.56288738e-01,\n",
       "        7.72221203e-01, 4.37984903e-01],\n",
       "       [3.72885409e-01, 4.53710946e-01, 1.43211617e-02, 5.15433073e-01,\n",
       "        1.60895360e-01, 5.95406378e-01, 6.95083535e-01, 2.85658140e-01,\n",
       "        2.73592771e-01, 5.01887595e-01, 7.88740225e-01, 4.49354152e-01,\n",
       "        7.94309424e-01, 4.90691030e-01, 1.49888563e-01, 3.67766155e-02,\n",
       "        7.60987903e-01, 3.11498093e-02, 2.36256128e-01, 5.52452603e-01,\n",
       "        9.39321645e-01, 2.02704784e-01, 5.44164380e-01, 1.69600071e-01,\n",
       "        1.04560311e-01, 8.57189925e-01, 9.29790916e-01, 5.26494447e-01,\n",
       "        6.71219998e-01, 9.25002934e-01],\n",
       "       [3.64972754e-01, 4.64780950e-01, 3.32982947e-01, 9.83525948e-01,\n",
       "        5.65546983e-01, 3.10417881e-02, 1.63990795e-01, 8.55928342e-01,\n",
       "        5.49699747e-02, 9.41688351e-01, 1.49829273e-01, 8.39885291e-01,\n",
       "        8.37983660e-01, 9.52134293e-01, 3.64780325e-01, 4.39977386e-01,\n",
       "        3.13622654e-01, 7.26525112e-01, 5.87283535e-01, 5.12460778e-01,\n",
       "        4.43071486e-01, 1.14628246e-01, 5.89872515e-01, 5.00667331e-01,\n",
       "        8.51121959e-01, 7.32413469e-01, 7.03472167e-01, 4.60674105e-01,\n",
       "        2.99588295e-01, 2.25174908e-01],\n",
       "       [7.85777544e-01, 7.17120970e-01, 6.03569104e-01, 2.47234091e-01,\n",
       "        3.17624319e-01, 7.92717669e-01, 4.44530341e-01, 6.23282012e-01,\n",
       "        2.94392205e-01, 6.46902751e-01, 3.87578431e-01, 1.94416253e-02,\n",
       "        3.42301853e-01, 2.18110143e-01, 4.94974586e-01, 4.59530741e-01,\n",
       "        6.33154143e-02, 6.69564424e-02, 1.72113829e-01, 9.57758295e-01,\n",
       "        7.70491473e-01, 9.38952014e-01, 3.28637697e-01, 2.55659325e-01,\n",
       "        7.75870767e-01, 6.96558879e-01, 9.63718623e-01, 8.96285306e-01,\n",
       "        5.52291955e-01, 3.87989662e-01],\n",
       "       [2.87361468e-01, 3.66046038e-01, 2.24269368e-01, 3.43349506e-01,\n",
       "        8.52196602e-01, 6.21840484e-01, 7.74026181e-01, 5.22966424e-01,\n",
       "        3.14742504e-01, 1.56525093e-01, 1.92580068e-01, 5.64584041e-01,\n",
       "        5.56676481e-01, 2.91611583e-01, 3.31029129e-01, 1.14268689e-01,\n",
       "        8.69835797e-01, 8.04504761e-01, 5.66878944e-01, 2.24620135e-02,\n",
       "        8.20287020e-01, 9.39876108e-01, 8.20240048e-02, 3.42336005e-01,\n",
       "        7.29784057e-01, 4.33474417e-02, 2.66909515e-01, 8.29930687e-01,\n",
       "        7.02955818e-01, 4.31066603e-01]])"
      ]
     },
     "execution_count": 98,
     "metadata": {},
     "output_type": "execute_result"
    }
   ],
   "source": [
    "image"
   ]
  },
  {
   "cell_type": "code",
   "execution_count": 101,
   "metadata": {},
   "outputs": [
    {
     "data": {
      "text/plain": [
       "<matplotlib.colorbar.Colorbar at 0x7f5f00ee7850>"
      ]
     },
     "execution_count": 101,
     "metadata": {},
     "output_type": "execute_result"
    },
    {
     "data": {
      "image/png": "[encoded data removed]",
      "text/plain": [
       "<Figure size 432x288 with 2 Axes>"
      ]
     },
     "metadata": {
      "needs_background": "light"
     },
     "output_type": "display_data"
    }
   ],
   "source": [
    "plt.imshow(image, cmap = plt.cm.hot)\n",
    "plt.colorbar()"
   ]
  },
  {
   "cell_type": "code",
   "execution_count": 102,
   "metadata": {},
   "outputs": [],
   "source": [
    "import os\n",
    "filename = os.path.join('iris.csv')"
   ]
  },
  {
   "cell_type": "code",
   "execution_count": 103,
   "metadata": {},
   "outputs": [
    {
     "name": "stdout",
     "output_type": "stream",
     "text": [
      "sepal_length,sepal_width,petal_length,petal_width,species\r\n",
      "5.1,3.5,1.4,0.2,setosa\r\n",
      "4.9,3,1.4,0.2,setosa\r\n",
      "4.7,3.2,1.3,0.2,setosa\r\n",
      "4.6,3.1,1.5,0.2,setosa\r\n",
      "5,3.6,1.4,0.2,setosa\r\n",
      "5.4,3.9,1.7,0.4,setosa\r\n",
      "4.6,3.4,1.4,0.3,setosa\r\n",
      "5,3.4,1.5,0.2,setosa\r\n",
      "4.4,2.9,1.4,0.2,setosa\r\n"
     ]
    }
   ],
   "source": [
    "!head iris.csv #linux\n",
    "#!more iris.csv #windows"
   ]
  },
  {
   "cell_type": "code",
   "execution_count": 104,
   "metadata": {},
   "outputs": [],
   "source": [
    "file = np.loadtxt(filename, delimiter=',', usecols=(0,1,2,3), skiprows=1)"
   ]
  },
  {
   "cell_type": "code",
   "execution_count": 106,
   "metadata": {},
   "outputs": [
    {
     "name": "stdout",
     "output_type": "stream",
     "text": [
      "[[5.1 3.5 1.4 0.2]\n",
      " [4.9 3.  1.4 0.2]\n",
      " [4.7 3.2 1.3 0.2]\n",
      " [4.6 3.1 1.5 0.2]\n",
      " [5.  3.6 1.4 0.2]\n",
      " [5.4 3.9 1.7 0.4]\n",
      " [4.6 3.4 1.4 0.3]\n",
      " [5.  3.4 1.5 0.2]\n",
      " [4.4 2.9 1.4 0.2]\n",
      " [4.9 3.1 1.5 0.1]\n",
      " [5.4 3.7 1.5 0.2]\n",
      " [4.8 3.4 1.6 0.2]\n",
      " [4.8 3.  1.4 0.1]\n",
      " [4.3 3.  1.1 0.1]\n",
      " [5.8 4.  1.2 0.2]\n",
      " [5.7 4.4 1.5 0.4]\n",
      " [5.4 3.9 1.3 0.4]\n",
      " [5.1 3.5 1.4 0.3]\n",
      " [5.7 3.8 1.7 0.3]\n",
      " [5.1 3.8 1.5 0.3]\n",
      " [5.4 3.4 1.7 0.2]\n",
      " [5.1 3.7 1.5 0.4]\n",
      " [4.6 3.6 1.  0.2]\n",
      " [5.1 3.3 1.7 0.5]\n",
      " [4.8 3.4 1.9 0.2]\n",
      " [5.  3.  1.6 0.2]\n",
      " [5.  3.4 1.6 0.4]\n",
      " [5.2 3.5 1.5 0.2]\n",
      " [5.2 3.4 1.4 0.2]\n",
      " [4.7 3.2 1.6 0.2]\n",
      " [4.8 3.1 1.6 0.2]\n",
      " [5.4 3.4 1.5 0.4]\n",
      " [5.2 4.1 1.5 0.1]\n",
      " [5.5 4.2 1.4 0.2]\n",
      " [4.9 3.1 1.5 0.1]\n",
      " [5.  3.2 1.2 0.2]\n",
      " [5.5 3.5 1.3 0.2]\n",
      " [4.9 3.1 1.5 0.1]\n",
      " [4.4 3.  1.3 0.2]\n",
      " [5.1 3.4 1.5 0.2]\n",
      " [5.  3.5 1.3 0.3]\n",
      " [4.5 2.3 1.3 0.3]\n",
      " [4.4 3.2 1.3 0.2]\n",
      " [5.  3.5 1.6 0.6]\n",
      " [5.1 3.8 1.9 0.4]\n",
      " [4.8 3.  1.4 0.3]\n",
      " [5.1 3.8 1.6 0.2]\n",
      " [4.6 3.2 1.4 0.2]\n",
      " [5.3 3.7 1.5 0.2]\n",
      " [5.  3.3 1.4 0.2]\n",
      " [7.  3.2 4.7 1.4]\n",
      " [6.4 3.2 4.5 1.5]\n",
      " [6.9 3.1 4.9 1.5]\n",
      " [5.5 2.3 4.  1.3]\n",
      " [6.5 2.8 4.6 1.5]\n",
      " [5.7 2.8 4.5 1.3]\n",
      " [6.3 3.3 4.7 1.6]\n",
      " [4.9 2.4 3.3 1. ]\n",
      " [6.6 2.9 4.6 1.3]\n",
      " [5.2 2.7 3.9 1.4]\n",
      " [5.  2.  3.5 1. ]\n",
      " [5.9 3.  4.2 1.5]\n",
      " [6.  2.2 4.  1. ]\n",
      " [6.1 2.9 4.7 1.4]\n",
      " [5.6 2.9 3.6 1.3]\n",
      " [6.7 3.1 4.4 1.4]\n",
      " [5.6 3.  4.5 1.5]\n",
      " [5.8 2.7 4.1 1. ]\n",
      " [6.2 2.2 4.5 1.5]\n",
      " [5.6 2.5 3.9 1.1]\n",
      " [5.9 3.2 4.8 1.8]\n",
      " [6.1 2.8 4.  1.3]\n",
      " [6.3 2.5 4.9 1.5]\n",
      " [6.1 2.8 4.7 1.2]\n",
      " [6.4 2.9 4.3 1.3]\n",
      " [6.6 3.  4.4 1.4]\n",
      " [6.8 2.8 4.8 1.4]\n",
      " [6.7 3.  5.  1.7]\n",
      " [6.  2.9 4.5 1.5]\n",
      " [5.7 2.6 3.5 1. ]\n",
      " [5.5 2.4 3.8 1.1]\n",
      " [5.5 2.4 3.7 1. ]\n",
      " [5.8 2.7 3.9 1.2]\n",
      " [6.  2.7 5.1 1.6]\n",
      " [5.4 3.  4.5 1.5]\n",
      " [6.  3.4 4.5 1.6]\n",
      " [6.7 3.1 4.7 1.5]\n",
      " [6.3 2.3 4.4 1.3]\n",
      " [5.6 3.  4.1 1.3]\n",
      " [5.5 2.5 4.  1.3]\n",
      " [5.5 2.6 4.4 1.2]\n",
      " [6.1 3.  4.6 1.4]\n",
      " [5.8 2.6 4.  1.2]\n",
      " [5.  2.3 3.3 1. ]\n",
      " [5.6 2.7 4.2 1.3]\n",
      " [5.7 3.  4.2 1.2]\n",
      " [5.7 2.9 4.2 1.3]\n",
      " [6.2 2.9 4.3 1.3]\n",
      " [5.1 2.5 3.  1.1]\n",
      " [5.7 2.8 4.1 1.3]\n",
      " [6.3 3.3 6.  2.5]\n",
      " [5.8 2.7 5.1 1.9]\n",
      " [7.1 3.  5.9 2.1]\n",
      " [6.3 2.9 5.6 1.8]\n",
      " [6.5 3.  5.8 2.2]\n",
      " [7.6 3.  6.6 2.1]\n",
      " [4.9 2.5 4.5 1.7]\n",
      " [7.3 2.9 6.3 1.8]\n",
      " [6.7 2.5 5.8 1.8]\n",
      " [7.2 3.6 6.1 2.5]\n",
      " [6.5 3.2 5.1 2. ]\n",
      " [6.4 2.7 5.3 1.9]\n",
      " [6.8 3.  5.5 2.1]\n",
      " [5.7 2.5 5.  2. ]\n",
      " [5.8 2.8 5.1 2.4]\n",
      " [6.4 3.2 5.3 2.3]\n",
      " [6.5 3.  5.5 1.8]\n",
      " [7.7 3.8 6.7 2.2]\n",
      " [7.7 2.6 6.9 2.3]\n",
      " [6.  2.2 5.  1.5]\n",
      " [6.9 3.2 5.7 2.3]\n",
      " [5.6 2.8 4.9 2. ]\n",
      " [7.7 2.8 6.7 2. ]\n",
      " [6.3 2.7 4.9 1.8]\n",
      " [6.7 3.3 5.7 2.1]\n",
      " [7.2 3.2 6.  1.8]\n",
      " [6.2 2.8 4.8 1.8]\n",
      " [6.1 3.  4.9 1.8]\n",
      " [6.4 2.8 5.6 2.1]\n",
      " [7.2 3.  5.8 1.6]\n",
      " [7.4 2.8 6.1 1.9]\n",
      " [7.9 3.8 6.4 2. ]\n",
      " [6.4 2.8 5.6 2.2]\n",
      " [6.3 2.8 5.1 1.5]\n",
      " [6.1 2.6 5.6 1.4]\n",
      " [7.7 3.  6.1 2.3]\n",
      " [6.3 3.4 5.6 2.4]\n",
      " [6.4 3.1 5.5 1.8]\n",
      " [6.  3.  4.8 1.8]\n",
      " [6.9 3.1 5.4 2.1]\n",
      " [6.7 3.1 5.6 2.4]\n",
      " [6.9 3.1 5.1 2.3]\n",
      " [5.8 2.7 5.1 1.9]\n",
      " [6.8 3.2 5.9 2.3]\n",
      " [6.7 3.3 5.7 2.5]\n",
      " [6.7 3.  5.2 2.3]\n",
      " [6.3 2.5 5.  1.9]\n",
      " [6.5 3.  5.2 2. ]\n",
      " [6.2 3.4 5.4 2.3]\n",
      " [5.9 3.  5.1 1.8]]\n"
     ]
    }
   ],
   "source": [
    "print(file)"
   ]
  },
  {
   "cell_type": "code",
   "execution_count": 107,
   "metadata": {},
   "outputs": [
    {
     "data": {
      "text/plain": [
       "numpy.ndarray"
      ]
     },
     "execution_count": 107,
     "metadata": {},
     "output_type": "execute_result"
    }
   ],
   "source": [
    "type(file)"
   ]
  },
  {
   "cell_type": "code",
   "execution_count": 108,
   "metadata": {},
   "outputs": [],
   "source": [
    "var1, var2 = np.loadtxt(filename, delimiter=',', usecols=(0,1), skiprows=1, unpack=True)"
   ]
  },
  {
   "cell_type": "code",
   "execution_count": 110,
   "metadata": {},
   "outputs": [
    {
     "name": "stdout",
     "output_type": "stream",
     "text": [
      "[5.1 4.9 4.7 4.6 5.  5.4 4.6 5.  4.4 4.9 5.4 4.8 4.8 4.3 5.8 5.7 5.4 5.1\n",
      " 5.7 5.1 5.4 5.1 4.6 5.1 4.8 5.  5.  5.2 5.2 4.7 4.8 5.4 5.2 5.5 4.9 5.\n",
      " 5.5 4.9 4.4 5.1 5.  4.5 4.4 5.  5.1 4.8 5.1 4.6 5.3 5.  7.  6.4 6.9 5.5\n",
      " 6.5 5.7 6.3 4.9 6.6 5.2 5.  5.9 6.  6.1 5.6 6.7 5.6 5.8 6.2 5.6 5.9 6.1\n",
      " 6.3 6.1 6.4 6.6 6.8 6.7 6.  5.7 5.5 5.5 5.8 6.  5.4 6.  6.7 6.3 5.6 5.5\n",
      " 5.5 6.1 5.8 5.  5.6 5.7 5.7 6.2 5.1 5.7 6.3 5.8 7.1 6.3 6.5 7.6 4.9 7.3\n",
      " 6.7 7.2 6.5 6.4 6.8 5.7 5.8 6.4 6.5 7.7 7.7 6.  6.9 5.6 7.7 6.3 6.7 7.2\n",
      " 6.2 6.1 6.4 7.2 7.4 7.9 6.4 6.3 6.1 7.7 6.3 6.4 6.  6.9 6.7 6.9 5.8 6.8\n",
      " 6.7 6.7 6.3 6.5 6.2 5.9]\n"
     ]
    }
   ],
   "source": [
    "print(var1)"
   ]
  },
  {
   "cell_type": "code",
   "execution_count": 111,
   "metadata": {},
   "outputs": [
    {
     "data": {
      "image/png": "[encoded data removed]",
      "text/plain": [
       "<Figure size 432x288 with 1 Axes>"
      ]
     },
     "metadata": {
      "needs_background": "light"
     },
     "output_type": "display_data"
    }
   ],
   "source": [
    "plt.show(plt.plot(var1, var2, 'o', markersize=8, alpha=0.75))"
   ]
  },
  {
   "cell_type": "markdown",
   "metadata": {},
   "source": [
    "## Statistics with NumPy"
   ]
  },
  {
   "cell_type": "code",
   "execution_count": 116,
   "metadata": {},
   "outputs": [],
   "source": [
    "a = np.array([15, 23, 63, 94, 75])"
   ]
  },
  {
   "cell_type": "code",
   "execution_count": 120,
   "metadata": {},
   "outputs": [
    {
     "data": {
      "text/plain": [
       "54.0"
      ]
     },
     "execution_count": 120,
     "metadata": {},
     "output_type": "execute_result"
    }
   ],
   "source": [
    "np.mean(a)"
   ]
  },
  {
   "cell_type": "code",
   "execution_count": 118,
   "metadata": {},
   "outputs": [
    {
     "data": {
      "text/plain": [
       "30.34468652004828"
      ]
     },
     "execution_count": 118,
     "metadata": {},
     "output_type": "execute_result"
    }
   ],
   "source": [
    "np.std(a)"
   ]
  },
  {
   "cell_type": "code",
   "execution_count": 119,
   "metadata": {},
   "outputs": [
    {
     "data": {
      "text/plain": [
       "920.8"
      ]
     },
     "execution_count": 119,
     "metadata": {},
     "output_type": "execute_result"
    }
   ],
   "source": [
    "np.var(a)"
   ]
  },
  {
   "cell_type": "code",
   "execution_count": 122,
   "metadata": {},
   "outputs": [],
   "source": [
    "d = np.arange(1, 10)"
   ]
  },
  {
   "cell_type": "code",
   "execution_count": 123,
   "metadata": {},
   "outputs": [
    {
     "data": {
      "text/plain": [
       "array([1, 2, 3, 4, 5, 6, 7, 8, 9])"
      ]
     },
     "execution_count": 123,
     "metadata": {},
     "output_type": "execute_result"
    }
   ],
   "source": [
    "d"
   ]
  },
  {
   "cell_type": "code",
   "execution_count": 124,
   "metadata": {},
   "outputs": [
    {
     "data": {
      "text/plain": [
       "45"
      ]
     },
     "execution_count": 124,
     "metadata": {},
     "output_type": "execute_result"
    }
   ],
   "source": [
    "np.sum(d)"
   ]
  },
  {
   "cell_type": "code",
   "execution_count": 128,
   "metadata": {},
   "outputs": [
    {
     "data": {
      "text/plain": [
       "362880"
      ]
     },
     "execution_count": 128,
     "metadata": {},
     "output_type": "execute_result"
    }
   ],
   "source": [
    "np.prod(d)"
   ]
  },
  {
   "cell_type": "code",
   "execution_count": 129,
   "metadata": {},
   "outputs": [
    {
     "data": {
      "text/plain": [
       "array([ 1,  3,  6, 10, 15, 21, 28, 36, 45])"
      ]
     },
     "execution_count": 129,
     "metadata": {},
     "output_type": "execute_result"
    }
   ],
   "source": [
    "np.cumsum(d)"
   ]
  },
  {
   "cell_type": "code",
   "execution_count": 131,
   "metadata": {},
   "outputs": [],
   "source": [
    "x = np.random.randn(400,2)"
   ]
  },
  {
   "cell_type": "code",
   "execution_count": 135,
   "metadata": {},
   "outputs": [],
   "source": [
    "m = x.mean(0)"
   ]
  },
  {
   "cell_type": "code",
   "execution_count": 136,
   "metadata": {},
   "outputs": [
    {
     "data": {
      "text/plain": [
       "array([0.00283113, 0.07162732])"
      ]
     },
     "execution_count": 136,
     "metadata": {},
     "output_type": "execute_result"
    }
   ],
   "source": [
    "m"
   ]
  },
  {
   "cell_type": "code",
   "execution_count": 137,
   "metadata": {},
   "outputs": [
    {
     "name": "stdout",
     "output_type": "stream",
     "text": [
      "[0.00283113 0.07162732] (2,)\n"
     ]
    }
   ],
   "source": [
    "print (m, m.shape)"
   ]
  },
  {
   "cell_type": "code",
   "execution_count": 145,
   "metadata": {},
   "outputs": [
    {
     "data": {
      "image/png": "[encoded data removed]",
      "text/plain": [
       "<Figure size 432x288 with 1 Axes>"
      ]
     },
     "metadata": {
      "needs_background": "light"
     },
     "output_type": "display_data"
    }
   ],
   "source": [
    "plt.plot(x[:,0], x[:,1], 'o', markersize=5, alpha=0.50)\n",
    "plt.plot(m[0], m[1], 'ro', markersize=10)\n",
    "plt.show()"
   ]
  },
  {
   "cell_type": "code",
   "execution_count": 146,
   "metadata": {},
   "outputs": [
    {
     "data": {
      "text/plain": [
       "array([0, 1, 2])"
      ]
     },
     "execution_count": 146,
     "metadata": {},
     "output_type": "execute_result"
    }
   ],
   "source": [
    "np.arange(3)"
   ]
  },
  {
   "cell_type": "code",
   "execution_count": 147,
   "metadata": {},
   "outputs": [],
   "source": [
    "a = np.diag(np.arange(3))"
   ]
  },
  {
   "cell_type": "code",
   "execution_count": 148,
   "metadata": {},
   "outputs": [
    {
     "data": {
      "text/plain": [
       "array([[0, 0, 0],\n",
       "       [0, 1, 0],\n",
       "       [0, 0, 2]])"
      ]
     },
     "execution_count": 148,
     "metadata": {},
     "output_type": "execute_result"
    }
   ],
   "source": [
    "a"
   ]
  },
  {
   "cell_type": "code",
   "execution_count": 149,
   "metadata": {},
   "outputs": [],
   "source": [
    "b = np.arange(10)"
   ]
  },
  {
   "cell_type": "code",
   "execution_count": 150,
   "metadata": {},
   "outputs": [
    {
     "data": {
      "text/plain": [
       "array([0, 1, 2, 3, 4, 5, 6, 7, 8, 9])"
      ]
     },
     "execution_count": 150,
     "metadata": {},
     "output_type": "execute_result"
    }
   ],
   "source": [
    "b"
   ]
  },
  {
   "cell_type": "code",
   "execution_count": 151,
   "metadata": {},
   "outputs": [
    {
     "data": {
      "text/plain": [
       "array([2, 5, 8])"
      ]
     },
     "execution_count": 151,
     "metadata": {},
     "output_type": "execute_result"
    }
   ],
   "source": [
    "b[2:9:3] "
   ]
  },
  {
   "cell_type": "code",
   "execution_count": 152,
   "metadata": {},
   "outputs": [
    {
     "data": {
      "text/plain": [
       "array([False,  True, False,  True])"
      ]
     },
     "execution_count": 152,
     "metadata": {},
     "output_type": "execute_result"
    }
   ],
   "source": [
    "a = np.array([1, 2, 3, 4])\n",
    "b = np.array([4, 2, 2, 4])\n",
    "a == b"
   ]
  },
  {
   "cell_type": "code",
   "execution_count": 153,
   "metadata": {},
   "outputs": [
    {
     "data": {
      "text/plain": [
       "False"
      ]
     },
     "execution_count": 153,
     "metadata": {},
     "output_type": "execute_result"
    }
   ],
   "source": [
    "np.array_equal(a, b)"
   ]
  },
  {
   "cell_type": "code",
   "execution_count": 154,
   "metadata": {},
   "outputs": [
    {
     "data": {
      "text/plain": [
       "1"
      ]
     },
     "execution_count": 154,
     "metadata": {},
     "output_type": "execute_result"
    }
   ],
   "source": [
    "a.min()"
   ]
  },
  {
   "cell_type": "code",
   "execution_count": 155,
   "metadata": {},
   "outputs": [
    {
     "data": {
      "text/plain": [
       "4"
      ]
     },
     "execution_count": 155,
     "metadata": {},
     "output_type": "execute_result"
    }
   ],
   "source": [
    "a.max()"
   ]
  },
  {
   "cell_type": "code",
   "execution_count": 156,
   "metadata": {},
   "outputs": [
    {
     "data": {
      "text/plain": [
       "array([2.5, 3.5, 4.5])"
      ]
     },
     "execution_count": 156,
     "metadata": {},
     "output_type": "execute_result"
    }
   ],
   "source": [
    "np.array([1, 2, 3]) + 1.5"
   ]
  },
  {
   "cell_type": "code",
   "execution_count": 157,
   "metadata": {},
   "outputs": [],
   "source": [
    "a = np.array([1.2, 1.5, 1.6, 2.5, 3.5, 4.5])"
   ]
  },
  {
   "cell_type": "code",
   "execution_count": 158,
   "metadata": {},
   "outputs": [],
   "source": [
    "b = np.around(a)"
   ]
  },
  {
   "cell_type": "code",
   "execution_count": 159,
   "metadata": {},
   "outputs": [
    {
     "data": {
      "text/plain": [
       "array([1., 2., 2., 2., 4., 4.])"
      ]
     },
     "execution_count": 159,
     "metadata": {},
     "output_type": "execute_result"
    }
   ],
   "source": [
    "b"
   ]
  },
  {
   "cell_type": "code",
   "execution_count": 160,
   "metadata": {},
   "outputs": [],
   "source": [
    "c = np.array([1, 2, 3, 4])"
   ]
  },
  {
   "cell_type": "code",
   "execution_count": 161,
   "metadata": {},
   "outputs": [
    {
     "data": {
      "text/plain": [
       "array([1, 2, 3, 4])"
      ]
     },
     "execution_count": 161,
     "metadata": {},
     "output_type": "execute_result"
    }
   ],
   "source": [
    "c"
   ]
  },
  {
   "cell_type": "code",
   "execution_count": 162,
   "metadata": {},
   "outputs": [],
   "source": [
    "d = c.flatten()"
   ]
  },
  {
   "cell_type": "code",
   "execution_count": 163,
   "metadata": {},
   "outputs": [
    {
     "data": {
      "text/plain": [
       "array([1, 2, 3, 4])"
      ]
     },
     "execution_count": 163,
     "metadata": {},
     "output_type": "execute_result"
    }
   ],
   "source": [
    "d"
   ]
  },
  {
   "cell_type": "code",
   "execution_count": 164,
   "metadata": {},
   "outputs": [],
   "source": [
    "v = np.array([1, 2, 3])"
   ]
  },
  {
   "cell_type": "code",
   "execution_count": 165,
   "metadata": {},
   "outputs": [
    {
     "data": {
      "text/plain": [
       "(array([[1],\n",
       "        [2],\n",
       "        [3]]),\n",
       " (3, 1),\n",
       " (1, 3))"
      ]
     },
     "execution_count": 165,
     "metadata": {},
     "output_type": "execute_result"
    }
   ],
   "source": [
    "v[:, np.newaxis], v[:,np.newaxis].shape, v[np.newaxis,:].shape"
   ]
  },
  {
   "cell_type": "code",
   "execution_count": 166,
   "metadata": {},
   "outputs": [
    {
     "data": {
      "text/plain": [
       "array([1, 1, 1, 2, 2, 2, 3, 3, 3])"
      ]
     },
     "execution_count": 166,
     "metadata": {},
     "output_type": "execute_result"
    }
   ],
   "source": [
    "np.repeat(v, 3)"
   ]
  },
  {
   "cell_type": "code",
   "execution_count": 167,
   "metadata": {},
   "outputs": [
    {
     "data": {
      "text/plain": [
       "array([1, 2, 3, 1, 2, 3, 1, 2, 3])"
      ]
     },
     "execution_count": 167,
     "metadata": {},
     "output_type": "execute_result"
    }
   ],
   "source": [
    "np.tile(v, 3)"
   ]
  },
  {
   "cell_type": "code",
   "execution_count": 170,
   "metadata": {},
   "outputs": [],
   "source": [
    "w = np.array([5, 6])"
   ]
  },
  {
   "cell_type": "code",
   "execution_count": 173,
   "metadata": {},
   "outputs": [
    {
     "data": {
      "text/plain": [
       "array([5, 6])"
      ]
     },
     "execution_count": 173,
     "metadata": {},
     "output_type": "execute_result"
    }
   ],
   "source": [
    "w"
   ]
  },
  {
   "cell_type": "code",
   "execution_count": 174,
   "metadata": {},
   "outputs": [
    {
     "data": {
      "text/plain": [
       "array([1, 2, 3])"
      ]
     },
     "execution_count": 174,
     "metadata": {},
     "output_type": "execute_result"
    }
   ],
   "source": [
    "v"
   ]
  },
  {
   "cell_type": "code",
   "execution_count": 175,
   "metadata": {},
   "outputs": [
    {
     "data": {
      "text/plain": [
       "array([1, 2, 3, 5, 6])"
      ]
     },
     "execution_count": 175,
     "metadata": {},
     "output_type": "execute_result"
    }
   ],
   "source": [
    "np.concatenate((v, w), axis=0)"
   ]
  },
  {
   "cell_type": "code",
   "execution_count": 176,
   "metadata": {},
   "outputs": [],
   "source": [
    "r = np.copy(v)"
   ]
  },
  {
   "cell_type": "code",
   "execution_count": 177,
   "metadata": {},
   "outputs": [
    {
     "data": {
      "text/plain": [
       "array([1, 2, 3])"
      ]
     },
     "execution_count": 177,
     "metadata": {},
     "output_type": "execute_result"
    }
   ],
   "source": [
    "r"
   ]
  },
  {
   "cell_type": "code",
   "execution_count": null,
   "metadata": {},
   "outputs": [],
   "source": []
  }
 ],
 "metadata": {
  "kernelspec": {
   "display_name": "Python 3",
   "language": "python",
   "name": "python3"
  },
  "language_info": {
   "codemirror_mode": {
    "name": "ipython",
    "version": 3
   },
   "file_extension": ".py",
   "mimetype": "text/x-python",
   "name": "python",
   "nbconvert_exporter": "python",
   "pygments_lexer": "ipython3",
   "version": "3.8.5"
  }
 },
 "nbformat": 4,
 "nbformat_minor": 4
}
