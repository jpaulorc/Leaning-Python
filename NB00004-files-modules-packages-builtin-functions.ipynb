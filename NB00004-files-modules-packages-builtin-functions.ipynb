{
 "cells": [
  {
   "cell_type": "markdown",
   "metadata": {},
   "source": [
    "   # Learning Python"
   ]
  },
  {
   "cell_type": "markdown",
   "metadata": {},
   "source": [
    "## Files, Modules, Packages and Built-in Functions"
   ]
  },
  {
   "cell_type": "code",
   "execution_count": null,
   "metadata": {},
   "outputs": [],
   "source": [
    "# Python Version\n",
    "from platform import python_version\n",
    "print(python_version())"
   ]
  },
  {
   "cell_type": "code",
   "execution_count": 104,
   "metadata": {},
   "outputs": [
    {
     "name": "stdout",
     "output_type": "stream",
     "text": [
      "[8, 27, 64]\n",
      "[8, 27, 64]\n"
     ]
    }
   ],
   "source": [
    "# Exercise 1 - Make a list with 3 elements and the third power of each element.\n",
    "mylist = [2, 3, 4]\n",
    "\n",
    "print(list(map(lambda x: x**3, mylist)))\n",
    "print([x**3 for x in mylist])"
   ]
  },
  {
   "cell_type": "code",
   "execution_count": 105,
   "metadata": {},
   "outputs": [
    {
     "name": "stdout",
     "output_type": "stream",
     "text": [
      "['MACHINE', 'machine', 7]\n",
      "['LEARNING', 'learning', 8]\n",
      "['IS', 'is', 2]\n",
      "['THE', 'the', 3]\n",
      "['STUDY', 'study', 5]\n",
      "['OF', 'of', 2]\n",
      "['COMPUTER', 'computer', 8]\n",
      "['ALGORITHMS', 'algorithms', 10]\n",
      "['THAT', 'that', 4]\n",
      "['IMPROVE', 'improve', 7]\n",
      "['AUTOMATICALLY', 'automatically', 13]\n",
      "['THROUGH', 'through', 7]\n",
      "['EXPERIENCE.', 'experience.', 11]\n",
      "\n",
      "\n",
      "['MACHINE', 'machine', 7]\n",
      "['LEARNING', 'learning', 8]\n",
      "['IS', 'is', 2]\n",
      "['THE', 'the', 3]\n",
      "['STUDY', 'study', 5]\n",
      "['OF', 'of', 2]\n",
      "['COMPUTER', 'computer', 8]\n",
      "['ALGORITHMS', 'algorithms', 10]\n",
      "['THAT', 'that', 4]\n",
      "['IMPROVE', 'improve', 7]\n",
      "['AUTOMATICALLY', 'automatically', 13]\n",
      "['THROUGH', 'through', 7]\n",
      "['EXPERIENCE.', 'experience.', 11]\n",
      "\n",
      "\n",
      "['MACHINE', 'machine', 7]\n",
      "['LEARNING', 'learning', 8]\n",
      "['IS', 'is', 2]\n",
      "['THE', 'the', 3]\n",
      "['STUDY', 'study', 5]\n",
      "['OF', 'of', 2]\n",
      "['COMPUTER', 'computer', 8]\n",
      "['ALGORITHMS', 'algorithms', 10]\n",
      "['THAT', 'that', 4]\n",
      "['IMPROVE', 'improve', 7]\n",
      "['AUTOMATICALLY', 'automatically', 13]\n",
      "['THROUGH', 'through', 7]\n",
      "['EXPERIENCE.', 'experience.', 11]\n"
     ]
    }
   ],
   "source": [
    "# Exercise 2 - Use map() function to rewrite the code.\n",
    "words = 'Machine learning is the study of computer algorithms that improve automatically through experience.'.split()\n",
    "result = [[w.upper(), w.lower(), len(w)] for w in words]\n",
    "for i in result:\n",
    "    print (i)\n",
    "\n",
    "##############    \n",
    "print('\\n')    \n",
    "##############\n",
    "\n",
    "for i in map(lambda x: [x.upper(), x.lower(), len(x)], words):\n",
    "    print(i)\n",
    "\n",
    "##############    \n",
    "print('\\n')    \n",
    "##############\n",
    "\n",
    "for i in [[w.upper(), w.lower(), len(w)] for w in words]:\n",
    "    print (i)"
   ]
  },
  {
   "cell_type": "code",
   "execution_count": 109,
   "metadata": {},
   "outputs": [
    {
     "name": "stdout",
     "output_type": "stream",
     "text": [
      "[[1, 3, 5, 7], [2, 4, 6, 8]]\n"
     ]
    }
   ],
   "source": [
    "# Exercise 3 - Calculate the tranpose matrix of the below matrix.\n",
    "matrix = [[1, 2],[3,4],[5,6],[7,8]]\n",
    "print([[x[i] for x in matrix] for i in range(2)])"
   ]
  },
  {
   "cell_type": "code",
   "execution_count": 110,
   "metadata": {},
   "outputs": [
    {
     "name": "stdout",
     "output_type": "stream",
     "text": [
      "[[0, 0], [1, 1], [4, 8], [9, 27], [16, 64]]\n",
      "[[0, 0], [1, 1], [4, 8], [9, 27], [16, 64]]\n"
     ]
    }
   ],
   "source": [
    "# Exercise 4 - Make two functions, one to square the number and another to cube the number.\n",
    "# Run both functions simultaneosly to below elements.\n",
    "mylist = [0, 1, 2, 3, 4]\n",
    "\n",
    "pow_2 = lambda x: x**2\n",
    "pow_3 = lambda x: x**3\n",
    "\n",
    "print([[pow_2(x), pow_3(x)] for x in mylist])\n",
    "\n",
    "print(list(map(lambda x: [pow_2(x), pow_3(x)], mylist)))"
   ]
  },
  {
   "cell_type": "code",
   "execution_count": 111,
   "metadata": {},
   "outputs": [
    {
     "data": {
      "text/plain": [
       "[1024, 177147, 16777216]"
      ]
     },
     "execution_count": 111,
     "metadata": {},
     "output_type": "execute_result"
    }
   ],
   "source": [
    "# Exercise 5 - Make each element of listA to power of each element of listB.\n",
    "listA = [2, 3, 4]\n",
    "listB = [10, 11, 12]\n",
    "powfunc = lambda a, b: a**b\n",
    "\n",
    "[powfunc(a,b) for a, b in zip(listA, listB)]"
   ]
  },
  {
   "cell_type": "code",
   "execution_count": 112,
   "metadata": {},
   "outputs": [
    {
     "name": "stdout",
     "output_type": "stream",
     "text": [
      "[-5, -4, -3, -2, -1]\n",
      "[-5, -4, -3, -2, -1]\n"
     ]
    }
   ],
   "source": [
    "# Exercise 6 - Use the filter() function to return only the negative numbers of range(-5, 5).\n",
    "print(list(filter(lambda x: x < 0, range(-5, 5))))\n",
    "print([x for x in range(-5, 5) if x < 0])"
   ]
  },
  {
   "cell_type": "code",
   "execution_count": 114,
   "metadata": {},
   "outputs": [
    {
     "name": "stdout",
     "output_type": "stream",
     "text": [
      "[2, 3, 5, 7]\n"
     ]
    }
   ],
   "source": [
    "# Exercise 7 - Use the filter() function to find common numbers in the lists below.\n",
    "a = [1,2,3,5,7,9]\n",
    "b = [2,3,5,6,7,8]\n",
    "\n",
    "print(list(filter(lambda x: x in b, a)))"
   ]
  },
  {
   "cell_type": "code",
   "execution_count": 115,
   "metadata": {},
   "outputs": [
    {
     "name": "stdout",
     "output_type": "stream",
     "text": [
      "27/01/2021 14:52\n",
      "27/01/2021 14:52\n"
     ]
    }
   ],
   "source": [
    "# Exercise 8 - Use package 'time' to make the same result\n",
    "import datetime\n",
    "print (datetime.datetime.now().strftime(\"%d/%m/%Y %H:%M\"))\n",
    "\n",
    "import time\n",
    "print(time.strftime('%d/%m/%Y %H:%M'))"
   ]
  },
  {
   "cell_type": "code",
   "execution_count": 117,
   "metadata": {},
   "outputs": [
    {
     "name": "stdout",
     "output_type": "stream",
     "text": [
      "[('a', 4), ('b', 5)]\n"
     ]
    }
   ],
   "source": [
    "# Exercise 9 - Make a third dict with keys of dict1 and values of dict2.\n",
    "dict1 = {'a':1,'b':2}\n",
    "dict2 = {'c':4,'d':5}\n",
    "print(list(zip(dict1,dict2.values())))"
   ]
  },
  {
   "cell_type": "code",
   "execution_count": 119,
   "metadata": {},
   "outputs": [
    {
     "name": "stdout",
     "output_type": "stream",
     "text": [
      "[(6, 'g'), (7, 'h')]\n"
     ]
    }
   ],
   "source": [
    "# Exercise 10 - Return only number greater than 5 of 'mylist'.\n",
    "mylist = ['a', 'b', 'c', 'd', 'e', 'f', 'g', 'h']\n",
    "print([(k,y) for k, y in enumerate(mylist) if k > 5])"
   ]
  },
  {
   "cell_type": "code",
   "execution_count": null,
   "metadata": {},
   "outputs": [],
   "source": []
  }
 ],
 "metadata": {
  "kernelspec": {
   "display_name": "Python 3",
   "language": "python",
   "name": "python3"
  },
  "language_info": {
   "codemirror_mode": {
    "name": "ipython",
    "version": 3
   },
   "file_extension": ".py",
   "mimetype": "text/x-python",
   "name": "python",
   "nbconvert_exporter": "python",
   "pygments_lexer": "ipython3",
   "version": "3.8.5"
  }
 },
 "nbformat": 4,
 "nbformat_minor": 4
}
